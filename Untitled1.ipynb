{
 "cells": [
  {
   "cell_type": "code",
   "execution_count": 1,
   "metadata": {},
   "outputs": [],
   "source": [
    "import django\n",
    "import os\n",
    "os.environ.setdefault('DJANGO_SETTINGS_MODULE', 'mysite.settings')\n",
    "django.setup()"
   ]
  },
  {
   "cell_type": "code",
   "execution_count": 2,
   "metadata": {},
   "outputs": [],
   "source": [
    "from fbpost.models import *\n",
    "from datetime import datetime\n",
    "from fbpost.model_methods import *\n",
    "from django.db.models import *\n",
    "from django.db import connection"
   ]
  },
  {
   "cell_type": "code",
   "execution_count": null,
   "metadata": {},
   "outputs": [],
   "source": [
    "x=len(connection.queries)\n",
    "y=len(connection.queries)\n",
    "print(\"no.of hits\",y-x)"
   ]
  },
  {
   "cell_type": "code",
   "execution_count": null,
   "metadata": {},
   "outputs": [],
   "source": [
    "len(connection.queries)"
   ]
  },
  {
   "cell_type": "code",
   "execution_count": 3,
   "metadata": {},
   "outputs": [
    {
     "data": {
      "text/plain": [
       "{'post_id': 2,\n",
       " 'posted_by': {'name': 'narendra',\n",
       "  'user_id': 1,\n",
       "  'profile_pic_url': 'https://dummy.url.com/pic.png'},\n",
       " 'posted_at': '2019-07-12 04:35:13.339910',\n",
       " 'post_content': 'Science News',\n",
       " 'reactions': {'reactions': {'count': 2, 'type': ['LIKE', 'SAD']}},\n",
       " 'comments': [{'comment_id': 9,\n",
       "   'commenter': {'name': 'narendra',\n",
       "    'user_id': 1,\n",
       "    'profile_pic_url': 'https://dummy.url.com/pic.png'},\n",
       "   'commented_at': '2019-07-15 04:19:59.236847',\n",
       "   'comment_content': 'This is second post and user1 commented',\n",
       "   'reactions': {'reactions': {'count': 1, 'type': ['HAHA']}},\n",
       "   'replies_count': 2,\n",
       "   'replies': [{'comment_id': 12,\n",
       "     'commenter': {'name': 'naveen',\n",
       "      'user_id': 3,\n",
       "      'profile_pic_url': 'https://dummy.url.com/pic2.png'},\n",
       "     'commented_at': '2019-07-15 04:28:09.677761',\n",
       "     'comment_content': 'reply to comment9 bu user3',\n",
       "     'reactions': {'reactions': {'count': 1, 'type': ['WOW']}},\n",
       "     'replies_count': 0,\n",
       "     'replies': []},\n",
       "    {'comment_id': 13,\n",
       "     'commenter': {'name': 'naveen',\n",
       "      'user_id': 3,\n",
       "      'profile_pic_url': 'https://dummy.url.com/pic2.png'},\n",
       "     'commented_at': '2019-07-15 07:32:16.918583',\n",
       "     'comment_content': 'reply to comment9 bu user3',\n",
       "     'reactions': {'reactions': {'count': 0, 'type': []}},\n",
       "     'replies_count': 0,\n",
       "     'replies': []}]}],\n",
       " 'comments_count': 1}"
      ]
     },
     "execution_count": 3,
     "metadata": {},
     "output_type": "execute_result"
    }
   ],
   "source": [
    "get_post(2)"
   ]
  },
  {
   "cell_type": "code",
   "execution_count": 4,
   "metadata": {},
   "outputs": [
    {
     "data": {
      "text/plain": [
       "[{'name': 'narendra',\n",
       "  'user_id': 1,\n",
       "  'profile_pic_url': 'https://dummy.url.com/pic.png',\n",
       "  'reaction': 'HAHA'},\n",
       " {'name': 'vamsi',\n",
       "  'user_id': 2,\n",
       "  'profile_pic_url': 'https://dummy.url.com/pic1.png',\n",
       "  'reaction': 'WOW'},\n",
       " {'name': 'naveen',\n",
       "  'user_id': 3,\n",
       "  'profile_pic_url': 'https://dummy.url.com/pic2.png',\n",
       "  'reaction': 'LOVE'}]"
      ]
     },
     "execution_count": 4,
     "metadata": {},
     "output_type": "execute_result"
    }
   ],
   "source": [
    "get_reactions_to_post(1)"
   ]
  },
  {
   "cell_type": "code",
   "execution_count": 5,
   "metadata": {},
   "outputs": [
    {
     "data": {
      "text/plain": [
       "{'comment_id': 9,\n",
       " 'commenter': {'name': 'narendra',\n",
       "  'user_id': 1,\n",
       "  'profile_pic_url': 'https://dummy.url.com/pic.png'},\n",
       " 'commented_at': '2019-07-15 04:19:59.236847',\n",
       " 'comment_content': 'This is second post and user1 commented',\n",
       " 'replies_count': 2,\n",
       " 'replies': [{'comment_id': 12,\n",
       "   'commenter': {'name': 'naveen',\n",
       "    'user_id': 3,\n",
       "    'profile_pic_url': 'https://dummy.url.com/pic2.png'},\n",
       "   'commented_at': '2019-07-15 04:28:09.677761',\n",
       "   'comment_content': 'reply to comment9 bu user3',\n",
       "   'reactions': {'reactions': {'count': 1, 'type': ['WOW']}},\n",
       "   'replies_count': 0,\n",
       "   'replies': []},\n",
       "  {'comment_id': 13,\n",
       "   'commenter': {'name': 'naveen',\n",
       "    'user_id': 3,\n",
       "    'profile_pic_url': 'https://dummy.url.com/pic2.png'},\n",
       "   'commented_at': '2019-07-15 07:32:16.918583',\n",
       "   'comment_content': 'reply to comment9 bu user3',\n",
       "   'reactions': {'reactions': {'count': 0, 'type': []}},\n",
       "   'replies_count': 0,\n",
       "   'replies': []}]}"
      ]
     },
     "execution_count": 5,
     "metadata": {},
     "output_type": "execute_result"
    }
   ],
   "source": [
    "get_replies_for_comment(9)"
   ]
  },
  {
   "cell_type": "code",
   "execution_count": null,
   "metadata": {},
   "outputs": [],
   "source": [
    "get_posts_with_positive_reactions()"
   ]
  },
  {
   "cell_type": "code",
   "execution_count": 6,
   "metadata": {},
   "outputs": [
    {
     "data": {
      "text/plain": [
       "{'post_id': 2,\n",
       " 'posted_by': {'name': 'narendra',\n",
       "  'user_id': 1,\n",
       "  'profile_pic_url': 'https://dummy.url.com/pic.png'},\n",
       " 'posted_at': '2019-07-12 04:35:13.339910',\n",
       " 'post_content': 'Science News',\n",
       " 'reactions': {'reactions': {'count': 2, 'type': ['SAD', 'LIKE']}},\n",
       " 'comments': [{'comment_id': 9,\n",
       "   'commenter': {'name': 'narendra',\n",
       "    'user_id': 1,\n",
       "    'profile_pic_url': 'https://dummy.url.com/pic.png'},\n",
       "   'commented_at': '2019-07-15 04:19:59.236847',\n",
       "   'comment_content': 'This is second post and user1 commented',\n",
       "   'reactions': {'reactions': {'count': 1, 'type': ['HAHA']}},\n",
       "   'replies_count': 2,\n",
       "   'replies': [{'comment_id': 12,\n",
       "     'commenter': {'name': 'naveen',\n",
       "      'user_id': 3,\n",
       "      'profile_pic_url': 'https://dummy.url.com/pic2.png'},\n",
       "     'commented_at': '2019-07-15 04:28:09.677761',\n",
       "     'comment_content': 'reply to comment9 bu user3',\n",
       "     'reactions': {'reactions': {'count': 1, 'type': ['WOW']}},\n",
       "     'replies_count': 0,\n",
       "     'replies': []},\n",
       "    {'comment_id': 13,\n",
       "     'commenter': {'name': 'naveen',\n",
       "      'user_id': 3,\n",
       "      'profile_pic_url': 'https://dummy.url.com/pic2.png'},\n",
       "     'commented_at': '2019-07-15 07:32:16.918583',\n",
       "     'comment_content': 'reply to comment9 bu user3',\n",
       "     'reactions': {'reactions': {'count': 0, 'type': []}},\n",
       "     'replies_count': 0,\n",
       "     'replies': []}]}],\n",
       " 'comments_count': 1}"
      ]
     },
     "execution_count": 6,
     "metadata": {},
     "output_type": "execute_result"
    }
   ],
   "source": [
    "get_post(2)"
   ]
  },
  {
   "cell_type": "code",
   "execution_count": 7,
   "metadata": {},
   "outputs": [
    {
     "data": {
      "text/plain": [
       "[{'post_id': 1,\n",
       "  'posted_by': {'name': 'narendra',\n",
       "   'user_id': 1,\n",
       "   'profile_pic_url': 'https://dummy.url.com/pic.png'},\n",
       "  'posted_at': '2019-07-12 04:34:51.011231',\n",
       "  'post_content': 'Tech News',\n",
       "  'reactions': {'reactions': {'count': 3, 'type': ['WOW', 'LOVE', 'HAHA']}},\n",
       "  'comments': [{'comment_id': 1,\n",
       "    'commenter': {'name': 'narendra',\n",
       "     'user_id': 1,\n",
       "     'profile_pic_url': 'https://dummy.url.com/pic.png'},\n",
       "    'commented_at': '2019-07-13 09:43:29.008126',\n",
       "    'comment_content': 'good info',\n",
       "    'reactions': {'reactions': {'count': 1, 'type': ['HAHA']}},\n",
       "    'replies_count': 4,\n",
       "    'replies': [{'comment_id': 5,\n",
       "      'commenter': {'name': 'narendra',\n",
       "       'user_id': 1,\n",
       "       'profile_pic_url': 'https://dummy.url.com/pic.png'},\n",
       "      'commented_at': '2019-07-13 10:04:29.869004',\n",
       "      'comment_content': 'Whats up',\n",
       "      'reactions': {'reactions': {'count': 0, 'type': []}},\n",
       "      'replies_count': 0,\n",
       "      'replies': []},\n",
       "     {'comment_id': 6,\n",
       "      'commenter': {'name': 'narendra',\n",
       "       'user_id': 1,\n",
       "       'profile_pic_url': 'https://dummy.url.com/pic.png'},\n",
       "      'commented_at': '2019-07-13 10:06:01.843250',\n",
       "      'comment_content': 'Whats up',\n",
       "      'reactions': {'reactions': {'count': 1, 'type': ['SAD']}},\n",
       "      'replies_count': 0,\n",
       "      'replies': []},\n",
       "     {'comment_id': 7,\n",
       "      'commenter': {'name': 'narendra',\n",
       "       'user_id': 1,\n",
       "       'profile_pic_url': 'https://dummy.url.com/pic.png'},\n",
       "      'commented_at': '2019-07-13 10:19:30.196802',\n",
       "      'comment_content': 'Whats up',\n",
       "      'reactions': {'reactions': {'count': 0, 'type': []}},\n",
       "      'replies_count': 0,\n",
       "      'replies': []},\n",
       "     {'comment_id': 8,\n",
       "      'commenter': {'name': 'narendra',\n",
       "       'user_id': 1,\n",
       "       'profile_pic_url': 'https://dummy.url.com/pic.png'},\n",
       "      'commented_at': '2019-07-13 12:29:15.888091',\n",
       "      'comment_content': 'super',\n",
       "      'reactions': {'reactions': {'count': 0, 'type': []}},\n",
       "      'replies_count': 0,\n",
       "      'replies': []}]},\n",
       "   {'comment_id': 2,\n",
       "    'commenter': {'name': 'narendra',\n",
       "     'user_id': 1,\n",
       "     'profile_pic_url': 'https://dummy.url.com/pic.png'},\n",
       "    'commented_at': '2019-07-13 09:46:40.327632',\n",
       "    'comment_content': 'good info',\n",
       "    'reactions': {'reactions': {'count': 0, 'type': []}},\n",
       "    'replies_count': 0,\n",
       "    'replies': []},\n",
       "   {'comment_id': 3,\n",
       "    'commenter': {'name': 'narendra',\n",
       "     'user_id': 1,\n",
       "     'profile_pic_url': 'https://dummy.url.com/pic.png'},\n",
       "    'commented_at': '2019-07-13 09:47:06.570260',\n",
       "    'comment_content': 'good info',\n",
       "    'reactions': {'reactions': {'count': 0, 'type': []}},\n",
       "    'replies_count': 0,\n",
       "    'replies': []},\n",
       "   {'comment_id': 4,\n",
       "    'commenter': {'name': 'narendra',\n",
       "     'user_id': 1,\n",
       "     'profile_pic_url': 'https://dummy.url.com/pic.png'},\n",
       "    'commented_at': '2019-07-13 10:02:25.337950',\n",
       "    'comment_content': 'good info',\n",
       "    'reactions': {'reactions': {'count': 0, 'type': []}},\n",
       "    'replies_count': 0,\n",
       "    'replies': []}],\n",
       "  'comments_count': 4},\n",
       " {'post_id': 2,\n",
       "  'posted_by': {'name': 'narendra',\n",
       "   'user_id': 1,\n",
       "   'profile_pic_url': 'https://dummy.url.com/pic.png'},\n",
       "  'posted_at': '2019-07-12 04:35:13.339910',\n",
       "  'post_content': 'Science News',\n",
       "  'reactions': {'reactions': {'count': 2, 'type': ['SAD', 'LIKE']}},\n",
       "  'comments': [{'comment_id': 9,\n",
       "    'commenter': {'name': 'narendra',\n",
       "     'user_id': 1,\n",
       "     'profile_pic_url': 'https://dummy.url.com/pic.png'},\n",
       "    'commented_at': '2019-07-15 04:19:59.236847',\n",
       "    'comment_content': 'This is second post and user1 commented',\n",
       "    'reactions': {'reactions': {'count': 1, 'type': ['HAHA']}},\n",
       "    'replies_count': 2,\n",
       "    'replies': [{'comment_id': 12,\n",
       "      'commenter': {'name': 'naveen',\n",
       "       'user_id': 3,\n",
       "       'profile_pic_url': 'https://dummy.url.com/pic2.png'},\n",
       "      'commented_at': '2019-07-15 04:28:09.677761',\n",
       "      'comment_content': 'reply to comment9 bu user3',\n",
       "      'reactions': {'reactions': {'count': 1, 'type': ['WOW']}},\n",
       "      'replies_count': 0,\n",
       "      'replies': []},\n",
       "     {'comment_id': 13,\n",
       "      'commenter': {'name': 'naveen',\n",
       "       'user_id': 3,\n",
       "       'profile_pic_url': 'https://dummy.url.com/pic2.png'},\n",
       "      'commented_at': '2019-07-15 07:32:16.918583',\n",
       "      'comment_content': 'reply to comment9 bu user3',\n",
       "      'reactions': {'reactions': {'count': 0, 'type': []}},\n",
       "      'replies_count': 0,\n",
       "      'replies': []}]}],\n",
       "  'comments_count': 1}]"
      ]
     },
     "execution_count": 7,
     "metadata": {},
     "output_type": "execute_result"
    }
   ],
   "source": [
    "get_user_posts(1)"
   ]
  },
  {
   "cell_type": "code",
   "execution_count": 8,
   "metadata": {},
   "outputs": [
    {
     "data": {
      "text/plain": [
       "{'comment_id': 13,\n",
       " 'commenter': {'name': 'naveen',\n",
       "  'user_id': 3,\n",
       "  'profile_pic_url': 'https://dummy.url.com/pic2.png'},\n",
       " 'commented_at': '2019-07-15 07:32:16.918583',\n",
       " 'comment_content': 'reply to comment9 bu user3',\n",
       " 'replies_count': 0,\n",
       " 'replies': []}"
      ]
     },
     "execution_count": 8,
     "metadata": {},
     "output_type": "execute_result"
    }
   ],
   "source": [
    "get_replies_for_comment(13)"
   ]
  },
  {
   "cell_type": "code",
   "execution_count": null,
   "metadata": {},
   "outputs": [],
   "source": [
    "add_comment(2,1,\"This is second post and user1 commented\")"
   ]
  },
  {
   "cell_type": "code",
   "execution_count": null,
   "metadata": {},
   "outputs": [],
   "source": [
    "Comment.objects.create(parent_comment=Comment.objects.get(id=9), commented_by=User.objects.get(id=3),\n",
    "                                       comment_at=covert_datetime_object_to_string(datetime.now()),\n",
    "                                       comment_content=\"reply to comment9 bu user3\")"
   ]
  },
  {
   "cell_type": "code",
   "execution_count": null,
   "metadata": {},
   "outputs": [],
   "source": []
  },
  {
   "cell_type": "code",
   "execution_count": null,
   "metadata": {},
   "outputs": [],
   "source": [
    "Comment.objects.all()"
   ]
  },
  {
   "cell_type": "code",
   "execution_count": null,
   "metadata": {},
   "outputs": [],
   "source": [
    "len(connection.queries)"
   ]
  },
  {
   "cell_type": "code",
   "execution_count": null,
   "metadata": {},
   "outputs": [],
   "source": [
    "Reactions.objects.all()"
   ]
  },
  {
   "cell_type": "code",
   "execution_count": null,
   "metadata": {},
   "outputs": [],
   "source": [
    "p=Post.objects.first()"
   ]
  },
  {
   "cell_type": "code",
   "execution_count": null,
   "metadata": {},
   "outputs": [],
   "source": [
    "r=p.reaction"
   ]
  },
  {
   "cell_type": "code",
   "execution_count": null,
   "metadata": {},
   "outputs": [],
   "source": [
    "r.values_list('react_type',flat=True).distinct()"
   ]
  },
  {
   "cell_type": "code",
   "execution_count": null,
   "metadata": {},
   "outputs": [],
   "source": [
    "covert_reaction_to_dict(r)"
   ]
  },
  {
   "cell_type": "code",
   "execution_count": 4,
   "metadata": {},
   "outputs": [],
   "source": [
    "first_post = Post.objects.get(id=1)\n"
   ]
  },
  {
   "cell_type": "code",
   "execution_count": 5,
   "metadata": {},
   "outputs": [
    {
     "data": {
      "text/plain": [
       "<Post: Tech News>"
      ]
     },
     "execution_count": 5,
     "metadata": {},
     "output_type": "execute_result"
    }
   ],
   "source": [
    "first_post"
   ]
  },
  {
   "cell_type": "code",
   "execution_count": 6,
   "metadata": {},
   "outputs": [],
   "source": [
    "first_user = User.objects.get(id=1)"
   ]
  },
  {
   "cell_type": "code",
   "execution_count": 7,
   "metadata": {},
   "outputs": [
    {
     "data": {
      "text/plain": [
       "<Reactions: HAHA>"
      ]
     },
     "execution_count": 7,
     "metadata": {},
     "output_type": "execute_result"
    }
   ],
   "source": [
    "first_post.reaction.create(react_type=\"HAHA\", user=first_user)"
   ]
  },
  {
   "cell_type": "code",
   "execution_count": 23,
   "metadata": {},
   "outputs": [],
   "source": [
    "n=first_post.reaction.all()[0]"
   ]
  },
  {
   "cell_type": "code",
   "execution_count": 26,
   "metadata": {},
   "outputs": [
    {
     "ename": "MultipleObjectsReturned",
     "evalue": "get() returned more than one Reactions -- it returned 2!",
     "output_type": "error",
     "traceback": [
      "\u001b[0;31m---------------------------------------------------------------------------\u001b[0m",
      "\u001b[0;31mMultipleObjectsReturned\u001b[0m                   Traceback (most recent call last)",
      "\u001b[0;32m<ipython-input-26-6e98cb454b3b>\u001b[0m in \u001b[0;36m<module>\u001b[0;34m\u001b[0m\n\u001b[0;32m----> 1\u001b[0;31m \u001b[0mreact_to_post\u001b[0m\u001b[0;34m(\u001b[0m\u001b[0;36m1\u001b[0m\u001b[0;34m,\u001b[0m\u001b[0;36m1\u001b[0m\u001b[0;34m,\u001b[0m\u001b[0;34m\"WOW\"\u001b[0m\u001b[0;34m)\u001b[0m\u001b[0;34m\u001b[0m\u001b[0;34m\u001b[0m\u001b[0m\n\u001b[0m",
      "\u001b[0;32m~/PycharmProjects/djangotutorial/fbpost/model_methods.py\u001b[0m in \u001b[0;36mreact_to_post\u001b[0;34m(user_id, post_id, reaction_type)\u001b[0m\n\u001b[1;32m    150\u001b[0m     \u001b[0;32mreturn\u001b[0m \u001b[0mlist\u001b[0m\u001b[0;34m(\u001b[0m\u001b[0mlist_of_post_ids\u001b[0m\u001b[0;34m)\u001b[0m\u001b[0;34m\u001b[0m\u001b[0;34m\u001b[0m\u001b[0m\n\u001b[1;32m    151\u001b[0m \u001b[0;34m\u001b[0m\u001b[0m\n\u001b[0;32m--> 152\u001b[0;31m \u001b[0;34m\u001b[0m\u001b[0m\n\u001b[0m\u001b[1;32m    153\u001b[0m \u001b[0;32mdef\u001b[0m \u001b[0mget_reactions_to_post\u001b[0m\u001b[0;34m(\u001b[0m\u001b[0mpost_id\u001b[0m\u001b[0;34m)\u001b[0m\u001b[0;34m:\u001b[0m\u001b[0;34m\u001b[0m\u001b[0;34m\u001b[0m\u001b[0m\n\u001b[1;32m    154\u001b[0m     \u001b[0;32mtry\u001b[0m\u001b[0;34m:\u001b[0m\u001b[0;34m\u001b[0m\u001b[0;34m\u001b[0m\u001b[0m\n",
      "\u001b[0;32m~/PycharmProjects/djangotutorial/venv/lib/python3.7/site-packages/django/db/models/manager.py\u001b[0m in \u001b[0;36mmanager_method\u001b[0;34m(self, *args, **kwargs)\u001b[0m\n\u001b[1;32m     80\u001b[0m         \u001b[0;32mdef\u001b[0m \u001b[0mcreate_method\u001b[0m\u001b[0;34m(\u001b[0m\u001b[0mname\u001b[0m\u001b[0;34m,\u001b[0m \u001b[0mmethod\u001b[0m\u001b[0;34m)\u001b[0m\u001b[0;34m:\u001b[0m\u001b[0;34m\u001b[0m\u001b[0;34m\u001b[0m\u001b[0m\n\u001b[1;32m     81\u001b[0m             \u001b[0;32mdef\u001b[0m \u001b[0mmanager_method\u001b[0m\u001b[0;34m(\u001b[0m\u001b[0mself\u001b[0m\u001b[0;34m,\u001b[0m \u001b[0;34m*\u001b[0m\u001b[0margs\u001b[0m\u001b[0;34m,\u001b[0m \u001b[0;34m**\u001b[0m\u001b[0mkwargs\u001b[0m\u001b[0;34m)\u001b[0m\u001b[0;34m:\u001b[0m\u001b[0;34m\u001b[0m\u001b[0;34m\u001b[0m\u001b[0m\n\u001b[0;32m---> 82\u001b[0;31m                 \u001b[0;32mreturn\u001b[0m \u001b[0mgetattr\u001b[0m\u001b[0;34m(\u001b[0m\u001b[0mself\u001b[0m\u001b[0;34m.\u001b[0m\u001b[0mget_queryset\u001b[0m\u001b[0;34m(\u001b[0m\u001b[0;34m)\u001b[0m\u001b[0;34m,\u001b[0m \u001b[0mname\u001b[0m\u001b[0;34m)\u001b[0m\u001b[0;34m(\u001b[0m\u001b[0;34m*\u001b[0m\u001b[0margs\u001b[0m\u001b[0;34m,\u001b[0m \u001b[0;34m**\u001b[0m\u001b[0mkwargs\u001b[0m\u001b[0;34m)\u001b[0m\u001b[0;34m\u001b[0m\u001b[0;34m\u001b[0m\u001b[0m\n\u001b[0m\u001b[1;32m     83\u001b[0m             \u001b[0mmanager_method\u001b[0m\u001b[0;34m.\u001b[0m\u001b[0m__name__\u001b[0m \u001b[0;34m=\u001b[0m \u001b[0mmethod\u001b[0m\u001b[0;34m.\u001b[0m\u001b[0m__name__\u001b[0m\u001b[0;34m\u001b[0m\u001b[0;34m\u001b[0m\u001b[0m\n\u001b[1;32m     84\u001b[0m             \u001b[0mmanager_method\u001b[0m\u001b[0;34m.\u001b[0m\u001b[0m__doc__\u001b[0m \u001b[0;34m=\u001b[0m \u001b[0mmethod\u001b[0m\u001b[0;34m.\u001b[0m\u001b[0m__doc__\u001b[0m\u001b[0;34m\u001b[0m\u001b[0;34m\u001b[0m\u001b[0m\n",
      "\u001b[0;32m~/PycharmProjects/djangotutorial/venv/lib/python3.7/site-packages/django/db/models/query.py\u001b[0m in \u001b[0;36mget\u001b[0;34m(self, *args, **kwargs)\u001b[0m\n\u001b[1;32m    410\u001b[0m         raise self.model.MultipleObjectsReturned(\n\u001b[1;32m    411\u001b[0m             \u001b[0;34m\"get() returned more than one %s -- it returned %s!\"\u001b[0m \u001b[0;34m%\u001b[0m\u001b[0;34m\u001b[0m\u001b[0;34m\u001b[0m\u001b[0m\n\u001b[0;32m--> 412\u001b[0;31m             \u001b[0;34m(\u001b[0m\u001b[0mself\u001b[0m\u001b[0;34m.\u001b[0m\u001b[0mmodel\u001b[0m\u001b[0;34m.\u001b[0m\u001b[0m_meta\u001b[0m\u001b[0;34m.\u001b[0m\u001b[0mobject_name\u001b[0m\u001b[0;34m,\u001b[0m \u001b[0mnum\u001b[0m\u001b[0;34m)\u001b[0m\u001b[0;34m\u001b[0m\u001b[0;34m\u001b[0m\u001b[0m\n\u001b[0m\u001b[1;32m    413\u001b[0m         )\n\u001b[1;32m    414\u001b[0m \u001b[0;34m\u001b[0m\u001b[0m\n",
      "\u001b[0;31mMultipleObjectsReturned\u001b[0m: get() returned more than one Reactions -- it returned 2!"
     ]
    }
   ],
   "source": []
  },
  {
   "cell_type": "code",
   "execution_count": 10,
   "metadata": {},
   "outputs": [
    {
     "name": "stderr",
     "output_type": "stream",
     "text": [
      "/home/ib_developer/PycharmProjects/djangotutorial/venv/lib/python3.7/site-packages/django/db/models/fields/__init__.py:1421: RuntimeWarning: DateTimeField Comment.comment_at received a naive datetime (2019-07-19 10:32:53.248348) while time zone support is active.\n",
      "  RuntimeWarning)\n"
     ]
    }
   ],
   "source": [
    "first_comment = first_post.comments.create(commented_by=first_user, comment_at=datetime.now(),\n",
    "                                               comment_content=\"comment1\")"
   ]
  },
  {
   "cell_type": "code",
   "execution_count": 13,
   "metadata": {},
   "outputs": [
    {
     "data": {
      "text/plain": [
       "<Reactions: WOW>"
      ]
     },
     "execution_count": 13,
     "metadata": {},
     "output_type": "execute_result"
    }
   ],
   "source": [
    "first_comment.reaction.create(react_type=\"WOW\", user=first_user)\n"
   ]
  },
  {
   "cell_type": "code",
   "execution_count": 14,
   "metadata": {},
   "outputs": [
    {
     "data": {
      "text/plain": [
       "<QuerySet [<Reactions: WOW>]>"
      ]
     },
     "execution_count": 14,
     "metadata": {},
     "output_type": "execute_result"
    }
   ],
   "source": [
    "first_comment.reaction.all()"
   ]
  },
  {
   "cell_type": "code",
   "execution_count": 16,
   "metadata": {},
   "outputs": [
    {
     "name": "stderr",
     "output_type": "stream",
     "text": [
      "/home/ib_developer/PycharmProjects/djangotutorial/venv/lib/python3.7/site-packages/django/db/models/fields/__init__.py:1421: RuntimeWarning: DateTimeField Comment.comment_at received a naive datetime (2019-07-19 10:34:15.810173) while time zone support is active.\n",
      "  RuntimeWarning)\n"
     ]
    }
   ],
   "source": [
    "first_reply = first_comment.reply.create(parent_comment=first_comment, commented_by=first_user,comment_at=datetime.now(), comment_content=\"reply1\")\n"
   ]
  },
  {
   "cell_type": "code",
   "execution_count": 17,
   "metadata": {},
   "outputs": [
    {
     "data": {
      "text/plain": [
       "<Comment: reply1>"
      ]
     },
     "execution_count": 17,
     "metadata": {},
     "output_type": "execute_result"
    }
   ],
   "source": [
    "first_reply"
   ]
  },
  {
   "cell_type": "code",
   "execution_count": 18,
   "metadata": {},
   "outputs": [
    {
     "data": {
      "text/plain": [
       "<Reactions: LIKE>"
      ]
     },
     "execution_count": 18,
     "metadata": {},
     "output_type": "execute_result"
    }
   ],
   "source": [
    "first_reply.reaction.create(react_type=\"LIKE\", user=first_user)\n"
   ]
  },
  {
   "cell_type": "code",
   "execution_count": 20,
   "metadata": {},
   "outputs": [
    {
     "data": {
      "text/plain": [
       "<QuerySet [<Reactions: LIKE>]>"
      ]
     },
     "execution_count": 20,
     "metadata": {},
     "output_type": "execute_result"
    }
   ],
   "source": [
    "first_reply.reaction.all()"
   ]
  },
  {
   "cell_type": "code",
   "execution_count": 21,
   "metadata": {},
   "outputs": [
    {
     "data": {
      "text/plain": [
       "{'post_id': 1,\n",
       " 'posted_by': {'name': 'narendra',\n",
       "  'user_id': 1,\n",
       "  'profile_pic_url': 'https://dummy.url.com/pic.png'},\n",
       " 'posted_at': '2019-07-12 04:34:51.011231',\n",
       " 'post_content': 'Tech News',\n",
       " 'reactions': {'reactions': {'count': 4, 'type': ['HAHA', 'LOVE', 'WOW']}},\n",
       " 'comments': [{'comment_id': 1,\n",
       "   'commenter': {'name': 'narendra',\n",
       "    'user_id': 1,\n",
       "    'profile_pic_url': 'https://dummy.url.com/pic.png'},\n",
       "   'commented_at': '2019-07-13 09:43:29.008126',\n",
       "   'comment_content': 'good info',\n",
       "   'reactions': {'reactions': {'count': 1, 'type': ['HAHA']}},\n",
       "   'replies_count': 4,\n",
       "   'replies': [{'comment_id': 5,\n",
       "     'commenter': {'name': 'narendra',\n",
       "      'user_id': 1,\n",
       "      'profile_pic_url': 'https://dummy.url.com/pic.png'},\n",
       "     'commented_at': '2019-07-13 10:04:29.869004',\n",
       "     'comment_content': 'Whats up',\n",
       "     'reactions': {'reactions': {'count': 0, 'type': []}},\n",
       "     'replies_count': 0,\n",
       "     'replies': []},\n",
       "    {'comment_id': 6,\n",
       "     'commenter': {'name': 'narendra',\n",
       "      'user_id': 1,\n",
       "      'profile_pic_url': 'https://dummy.url.com/pic.png'},\n",
       "     'commented_at': '2019-07-13 10:06:01.843250',\n",
       "     'comment_content': 'Whats up',\n",
       "     'reactions': {'reactions': {'count': 1, 'type': ['SAD']}},\n",
       "     'replies_count': 0,\n",
       "     'replies': []},\n",
       "    {'comment_id': 7,\n",
       "     'commenter': {'name': 'narendra',\n",
       "      'user_id': 1,\n",
       "      'profile_pic_url': 'https://dummy.url.com/pic.png'},\n",
       "     'commented_at': '2019-07-13 10:19:30.196802',\n",
       "     'comment_content': 'Whats up',\n",
       "     'reactions': {'reactions': {'count': 0, 'type': []}},\n",
       "     'replies_count': 0,\n",
       "     'replies': []},\n",
       "    {'comment_id': 8,\n",
       "     'commenter': {'name': 'narendra',\n",
       "      'user_id': 1,\n",
       "      'profile_pic_url': 'https://dummy.url.com/pic.png'},\n",
       "     'commented_at': '2019-07-13 12:29:15.888091',\n",
       "     'comment_content': 'super',\n",
       "     'reactions': {'reactions': {'count': 0, 'type': []}},\n",
       "     'replies_count': 0,\n",
       "     'replies': []}]},\n",
       "  {'comment_id': 2,\n",
       "   'commenter': {'name': 'narendra',\n",
       "    'user_id': 1,\n",
       "    'profile_pic_url': 'https://dummy.url.com/pic.png'},\n",
       "   'commented_at': '2019-07-13 09:46:40.327632',\n",
       "   'comment_content': 'good info',\n",
       "   'reactions': {'reactions': {'count': 0, 'type': []}},\n",
       "   'replies_count': 0,\n",
       "   'replies': []},\n",
       "  {'comment_id': 3,\n",
       "   'commenter': {'name': 'narendra',\n",
       "    'user_id': 1,\n",
       "    'profile_pic_url': 'https://dummy.url.com/pic.png'},\n",
       "   'commented_at': '2019-07-13 09:47:06.570260',\n",
       "   'comment_content': 'good info',\n",
       "   'reactions': {'reactions': {'count': 0, 'type': []}},\n",
       "   'replies_count': 0,\n",
       "   'replies': []},\n",
       "  {'comment_id': 4,\n",
       "   'commenter': {'name': 'narendra',\n",
       "    'user_id': 1,\n",
       "    'profile_pic_url': 'https://dummy.url.com/pic.png'},\n",
       "   'commented_at': '2019-07-13 10:02:25.337950',\n",
       "   'comment_content': 'good info',\n",
       "   'reactions': {'reactions': {'count': 0, 'type': []}},\n",
       "   'replies_count': 0,\n",
       "   'replies': []},\n",
       "  {'comment_id': 14,\n",
       "   'commenter': {'name': 'narendra',\n",
       "    'user_id': 1,\n",
       "    'profile_pic_url': 'https://dummy.url.com/pic.png'},\n",
       "   'commented_at': '2019-07-19 05:02:53.248348',\n",
       "   'comment_content': 'comment1',\n",
       "   'reactions': {'reactions': {'count': 1, 'type': ['WOW']}},\n",
       "   'replies_count': 1,\n",
       "   'replies': [{'comment_id': 15,\n",
       "     'commenter': {'name': 'narendra',\n",
       "      'user_id': 1,\n",
       "      'profile_pic_url': 'https://dummy.url.com/pic.png'},\n",
       "     'commented_at': '2019-07-19 05:04:15.810173',\n",
       "     'comment_content': 'reply1',\n",
       "     'reactions': {'reactions': {'count': 1, 'type': ['LIKE']}},\n",
       "     'replies_count': 0,\n",
       "     'replies': []}]}],\n",
       " 'comments_count': 5}"
      ]
     },
     "execution_count": 21,
     "metadata": {},
     "output_type": "execute_result"
    }
   ],
   "source": [
    "get_post(1)"
   ]
  },
  {
   "cell_type": "code",
   "execution_count": null,
   "metadata": {},
   "outputs": [],
   "source": []
  }
 ],
 "metadata": {
  "kernelspec": {
   "display_name": "Python 3",
   "language": "python",
   "name": "python3"
  },
  "language_info": {
   "codemirror_mode": {
    "name": "ipython",
    "version": 3
   },
   "file_extension": ".py",
   "mimetype": "text/x-python",
   "name": "python",
   "nbconvert_exporter": "python",
   "pygments_lexer": "ipython3",
   "version": "3.7.3"
  }
 },
 "nbformat": 4,
 "nbformat_minor": 2
}
