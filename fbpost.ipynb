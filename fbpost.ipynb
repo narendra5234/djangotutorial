{
 "cells": [
  {
   "cell_type": "code",
   "execution_count": 1,
   "metadata": {},
   "outputs": [],
   "source": [
    "import django\n",
    "import os\n",
    "os.environ.setdefault('DJANGO_SETTINGS_MODULE', 'mysite.settings')\n",
    "django.setup()"
   ]
  },
  {
   "cell_type": "code",
   "execution_count": 2,
   "metadata": {},
   "outputs": [],
   "source": [
    "from fbpost.models import *\n",
    "from datetime import datetime"
   ]
  },
  {
   "cell_type": "code",
   "execution_count": 7,
   "metadata": {},
   "outputs": [],
   "source": [
    "def create_post(user_id,post_content):\n",
    "    try:\n",
    "        User.objects.get(id=user_id)\n",
    "        \n",
    "    except User.DoesNotExist:\n",
    "        print(\"User Not Found\")\n",
    "        return\n",
    "    \n",
    "    p1=Post.objects.create(post_datetime=str(datetime.now()),post_content=post_content,user=User.objects.get(id=user_id))\n",
    "    return p1.id"
   ]
  },
  {
   "cell_type": "code",
   "execution_count": 218,
   "metadata": {},
   "outputs": [
    {
     "name": "stderr",
     "output_type": "stream",
     "text": [
      "/home/ib_admin/PycharmProjects/djangotutorial/.venv/lib/python3.7/site-packages/django/db/models/fields/__init__.py:1421: RuntimeWarning: DateTimeField Post.post_datetime received a naive datetime (2019-07-04 15:16:16.374595) while time zone support is active.\n",
      "  RuntimeWarning)\n"
     ]
    },
    {
     "data": {
      "text/plain": [
       "3"
      ]
     },
     "execution_count": 218,
     "metadata": {},
     "output_type": "execute_result"
    }
   ],
   "source": [
    "create_post(1,\"CyberEye\")"
   ]
  },
  {
   "cell_type": "code",
   "execution_count": 214,
   "metadata": {},
   "outputs": [],
   "source": [
    "u4=User.objects.create(username=\"jaggu\",pic_url=\"https://dummy.url.com/pic1.png\")"
   ]
  },
  {
   "cell_type": "code",
   "execution_count": 113,
   "metadata": {},
   "outputs": [
    {
     "data": {
      "text/plain": [
       "<QuerySet [<User: User object (1)>, <User: User object (2)>]>"
      ]
     },
     "execution_count": 113,
     "metadata": {},
     "output_type": "execute_result"
    }
   ],
   "source": [
    "User.objects.all()"
   ]
  },
  {
   "cell_type": "code",
   "execution_count": 222,
   "metadata": {},
   "outputs": [
    {
     "data": {
      "text/plain": [
       "<Post: Post object (3)>"
      ]
     },
     "execution_count": 222,
     "metadata": {},
     "output_type": "execute_result"
    }
   ],
   "source": [
    "Post.objects.get(id=3)\n",
    "    "
   ]
  },
  {
   "cell_type": "code",
   "execution_count": 26,
   "metadata": {},
   "outputs": [],
   "source": [
    "s=Reactions.objects.get(id=1)"
   ]
  },
  {
   "cell_type": "code",
   "execution_count": 27,
   "metadata": {},
   "outputs": [
    {
     "data": {
      "text/plain": [
       "'HAHA'"
      ]
     },
     "execution_count": 27,
     "metadata": {},
     "output_type": "execute_result"
    }
   ],
   "source": [
    "s.react_type"
   ]
  },
  {
   "cell_type": "code",
   "execution_count": 87,
   "metadata": {},
   "outputs": [],
   "source": [
    "r2=Reactions.objects.create(react_type='WOW',post=Post.objects.get(id=2),user=u1)"
   ]
  },
  {
   "cell_type": "code",
   "execution_count": 57,
   "metadata": {},
   "outputs": [],
   "source": [
    "def get_post(post_id):\n",
    "    try:\n",
    "        Post.objects.get(id=post_id)\n",
    "    except User.DoesNotExist:\n",
    "        print(\"Post Not Found\")\n",
    "        return\n",
    "    d={}\n",
    "    post=Post.objects.get(id=post_id)\n",
    "    d['post_id']=post_id\n",
    "    d['posted_by']={\"name\":post.user.username,\"user_id\":post.user.id,\"profile_pic_url\":post.user.pic_url}\n",
    "    d['posted_at']=str(post.post_datetime)[:-6]\n",
    "    d['post_content']=post.post_content\n",
    "    l=[]\n",
    "    for i in post.reaction.all():\n",
    "        l.append(i.react_type)\n",
    "    d['reactions']={\"count\":len(l),\"type\":list(set(l))}\n",
    "    return d\n",
    "    \n",
    "    \n",
    "        "
   ]
  },
  {
   "cell_type": "code",
   "execution_count": 217,
   "metadata": {},
   "outputs": [
    {
     "data": {
      "text/plain": [
       "{'post_id': 1,\n",
       " 'posted_by': {'name': 'narendra',\n",
       "  'user_id': 1,\n",
       "  'profile_pic_url': 'https://dummy.url.com/pic.png'},\n",
       " 'posted_at': '2019-07-04 04:41:15.057904',\n",
       " 'post_content': 'IBC',\n",
       " 'reactions': {'count': 3, 'type': ['SAD', 'LIKE']}}"
      ]
     },
     "execution_count": 217,
     "metadata": {},
     "output_type": "execute_result"
    }
   ],
   "source": [
    "get_post(1)"
   ]
  },
  {
   "cell_type": "code",
   "execution_count": 88,
   "metadata": {},
   "outputs": [],
   "source": [
    "def get_user_posts(user_id):\n",
    "    try:\n",
    "        User.objects.get(id=user_id)\n",
    "    except User.DoesNotExist:\n",
    "        print(\"User Not Found\")\n",
    "    l=[]\n",
    "    user=User.objects.get(id=user_id)\n",
    "    for i in user.posts.all():\n",
    "        l.append(get_post(i.id))\n",
    "    return l"
   ]
  },
  {
   "cell_type": "code",
   "execution_count": 89,
   "metadata": {},
   "outputs": [
    {
     "data": {
      "text/plain": [
       "[{'post_id': 1,\n",
       "  'posted_by': {'name': 'narendra',\n",
       "   'user_id': 1,\n",
       "   'profile_pic_url': 'https://dummy.url.com/pic.png'},\n",
       "  'posted_at': '2019-07-04 04:41:15.057904',\n",
       "  'post_content': 'IBC',\n",
       "  'reactions': {'count': 3, 'type': ['WOW', 'HAHA', 'LIKE']}},\n",
       " {'post_id': 2,\n",
       "  'posted_by': {'name': 'narendra',\n",
       "   'user_id': 1,\n",
       "   'profile_pic_url': 'https://dummy.url.com/pic.png'},\n",
       "  'posted_at': '2019-07-04 05:27:12.099098',\n",
       "  'post_content': 'CyberEye',\n",
       "  'reactions': {'count': 2, 'type': ['WOW', 'SAD']}}]"
      ]
     },
     "execution_count": 89,
     "metadata": {},
     "output_type": "execute_result"
    }
   ],
   "source": [
    "get_user_posts(1)"
   ]
  },
  {
   "cell_type": "code",
   "execution_count": 108,
   "metadata": {},
   "outputs": [],
   "source": [
    "def delete_post(post_id):\n",
    "    try:\n",
    "        post = Post.objects.get(id=post_id)\n",
    "    except Post.DoesNotExist:\n",
    "        print(\"Post Not Found\")\n",
    "        return\n",
    "    post.delete()"
   ]
  },
  {
   "cell_type": "code",
   "execution_count": 109,
   "metadata": {},
   "outputs": [
    {
     "name": "stdout",
     "output_type": "stream",
     "text": [
      "Post Not Found\n"
     ]
    }
   ],
   "source": [
    "delete_post(2)"
   ]
  },
  {
   "cell_type": "code",
   "execution_count": 198,
   "metadata": {},
   "outputs": [],
   "source": [
    "def react_to_post(user_id,post_id,reaction_type):\n",
    "    try:\n",
    "        User.objects.get(id=user_id)\n",
    "    except User.DoesNotExist:\n",
    "        print(\"Invalid User\")\n",
    "        return\n",
    "    try:\n",
    "        Post.objects.get(id=post_id)\n",
    "    except Post.DoesNotExist:\n",
    "        print(\"Invalid Post\")\n",
    "        return\n",
    "    if(reaction_type not in [\"HAHA\",\"LIKE\",\"SAD\",\"WOW\",\"LOVE\"]):\n",
    "        print(\"Reaction doesnot exist\")\n",
    "        return \n",
    "        \n",
    "    try:\n",
    "        reaction=Reactions.objects.get(user_id=user_id,post_id=post_id)\n",
    "    except Reactions.DoesNotExist:\n",
    "        print(\"No Reaction Found\")\n",
    "        r=Reactions.objects.create(react_type=reaction_type,post=Post.objects.get(id=post_id),user=User.objects.get(id=user_id))\n",
    "        return\n",
    "    if(reaction_type==reaction.react_type):\n",
    "        reaction.delete()\n",
    "    else:\n",
    "        reaction.react_type=reaction_type\n",
    "        reaction.save()\n",
    "        \n",
    "\n",
    "        \n",
    "    "
   ]
  },
  {
   "cell_type": "code",
   "execution_count": 209,
   "metadata": {},
   "outputs": [
    {
     "ename": "TypeError",
     "evalue": "all() takes 1 positional argument but 4 were given",
     "output_type": "error",
     "traceback": [
      "\u001b[0;31m---------------------------------------------------------------------------\u001b[0m",
      "\u001b[0;31mTypeError\u001b[0m                                 Traceback (most recent call last)",
      "\u001b[0;32m<ipython-input-209-05015c571cfc>\u001b[0m in \u001b[0;36m<module>\u001b[0;34m\u001b[0m\n\u001b[0;32m----> 1\u001b[0;31m \u001b[0mUser\u001b[0m\u001b[0;34m.\u001b[0m\u001b[0mobjects\u001b[0m\u001b[0;34m.\u001b[0m\u001b[0mall\u001b[0m\u001b[0;34m(\u001b[0m\u001b[0;36m1\u001b[0m\u001b[0;34m,\u001b[0m\u001b[0;36m1\u001b[0m\u001b[0;34m,\u001b[0m\u001b[0;34m\"SAD\"\u001b[0m\u001b[0;34m)\u001b[0m\u001b[0;34m\u001b[0m\u001b[0;34m\u001b[0m\u001b[0m\n\u001b[0m",
      "\u001b[0;31mTypeError\u001b[0m: all() takes 1 positional argument but 4 were given"
     ]
    }
   ],
   "source": [
    "User.objects.all()"
   ]
  },
  {
   "cell_type": "code",
   "execution_count": 206,
   "metadata": {},
   "outputs": [
    {
     "data": {
      "text/plain": [
       "<QuerySet [<Post: Post object (1)>]>"
      ]
     },
     "execution_count": 206,
     "metadata": {},
     "output_type": "execute_result"
    }
   ],
   "source": [
    "Post.objects.all()"
   ]
  },
  {
   "cell_type": "code",
   "execution_count": 224,
   "metadata": {},
   "outputs": [
    {
     "name": "stdout",
     "output_type": "stream",
     "text": [
      "No Reaction Found\n"
     ]
    }
   ],
   "source": [
    "react_to_post(1,3,\"LOVE\")"
   ]
  },
  {
   "cell_type": "code",
   "execution_count": null,
   "metadata": {},
   "outputs": [],
   "source": []
  },
  {
   "cell_type": "code",
   "execution_count": 229,
   "metadata": {},
   "outputs": [],
   "source": [
    "u=User.objects.get(id=1)"
   ]
  },
  {
   "cell_type": "code",
   "execution_count": 225,
   "metadata": {},
   "outputs": [
    {
     "name": "stdout",
     "output_type": "stream",
     "text": [
      "SAD\n",
      "LIKE\n",
      "LIKE\n",
      "LOVE\n",
      "LOVE\n"
     ]
    }
   ],
   "source": [
    "for i in Reactions.objects.all():\n",
    "    print(i.react_type)"
   ]
  },
  {
   "cell_type": "code",
   "execution_count": 226,
   "metadata": {},
   "outputs": [
    {
     "data": {
      "text/plain": [
       "<QuerySet [<Reactions: Reactions object (14)>, <Reactions: Reactions object (15)>, <Reactions: Reactions object (16)>, <Reactions: Reactions object (17)>, <Reactions: Reactions object (18)>]>"
      ]
     },
     "execution_count": 226,
     "metadata": {},
     "output_type": "execute_result"
    }
   ],
   "source": [
    "Reactions.objects.all()"
   ]
  },
  {
   "cell_type": "code",
   "execution_count": 230,
   "metadata": {},
   "outputs": [
    {
     "data": {
      "text/plain": [
       "<QuerySet [<Reactions: Reactions object (14)>, <Reactions: Reactions object (18)>]>"
      ]
     },
     "execution_count": 230,
     "metadata": {},
     "output_type": "execute_result"
    }
   ],
   "source": [
    "Reactions.objects.filter(user=u)"
   ]
  },
  {
   "cell_type": "code",
   "execution_count": 201,
   "metadata": {},
   "outputs": [
    {
     "data": {
      "text/plain": [
       "<QuerySet [<Reactions: Reactions object (11)>, <Reactions: Reactions object (13)>]>"
      ]
     },
     "execution_count": 201,
     "metadata": {},
     "output_type": "execute_result"
    }
   ],
   "source": [
    "Reactions.objects.all()"
   ]
  },
  {
   "cell_type": "code",
   "execution_count": 239,
   "metadata": {},
   "outputs": [],
   "source": [
    "def get_posts_reacted_by_user(user_id):\n",
    "    try:\n",
    "        u=User.objects.get(id=user_id)\n",
    "    except User.DoesNotExist:\n",
    "        print(\"User Not Found\")\n",
    "        return\n",
    "    l=[]\n",
    "    reaction=Reactions.objects.filter(user=u)\n",
    "    for i in reaction:\n",
    "        p=i.post\n",
    "        l.append(p.id)\n",
    "    return l\n",
    "        "
   ]
  },
  {
   "cell_type": "code",
   "execution_count": 240,
   "metadata": {},
   "outputs": [
    {
     "data": {
      "text/plain": [
       "[1, 3]"
      ]
     },
     "execution_count": 240,
     "metadata": {},
     "output_type": "execute_result"
    }
   ],
   "source": [
    "get_posts_reacted_by_user(1)"
   ]
  },
  {
   "cell_type": "code",
   "execution_count": 251,
   "metadata": {},
   "outputs": [],
   "source": [
    "def get_reactions_to_post(post_id):\n",
    "    try:\n",
    "        p=Post.objects.get(id=post_id)\n",
    "    except Post.DoesNotExist:\n",
    "        print(\"Post Not Found\")\n",
    "        return\n",
    "    l=[]\n",
    "    reaction=Reactions.objects.filter(post=p)\n",
    "#     print(reaction)\n",
    "    for i in reaction:\n",
    "        d={}\n",
    "        d['user_id']=i.user.id\n",
    "        d['name']=i.user.username\n",
    "        d['profile_pic']=i.user.pic_url\n",
    "        d['reaction']=i.react_type\n",
    "        l.append(d)\n",
    "    return l\n",
    "    "
   ]
  },
  {
   "cell_type": "code",
   "execution_count": 252,
   "metadata": {},
   "outputs": [
    {
     "name": "stdout",
     "output_type": "stream",
     "text": [
      "<QuerySet [<Reactions: Reactions object (14)>, <Reactions: Reactions object (15)>, <Reactions: Reactions object (16)>]>\n"
     ]
    },
    {
     "data": {
      "text/plain": [
       "[{'user_id': 1,\n",
       "  'name': 'narendra',\n",
       "  'profile_pic': 'https://dummy.url.com/pic.png',\n",
       "  'reaction': 'SAD'},\n",
       " {'user_id': 2,\n",
       "  'name': 'mohan',\n",
       "  'profile_pic': 'https://dummy.url.com/pic1.png',\n",
       "  'reaction': 'LIKE'},\n",
       " {'user_id': 3,\n",
       "  'name': 'vamsi',\n",
       "  'profile_pic': 'https://dummy.url.com/pic1.png',\n",
       "  'reaction': 'LIKE'}]"
      ]
     },
     "execution_count": 252,
     "metadata": {},
     "output_type": "execute_result"
    }
   ],
   "source": [
    "get_reactions_to_post(1)"
   ]
  },
  {
   "cell_type": "code",
   "execution_count": 255,
   "metadata": {},
   "outputs": [],
   "source": [
    "l=['SAD','HAHA','HAHA']"
   ]
  },
  {
   "cell_type": "code",
   "execution_count": 268,
   "metadata": {},
   "outputs": [],
   "source": [
    "def get_reaction_metrics(post_id):\n",
    "    try:\n",
    "        p=Post.objects.get(id=post_id)\n",
    "    except Post.DoesNotExist:\n",
    "        print(\"Post Not Found\")\n",
    "        return\n",
    "    d={}\n",
    "    reaction=Reactions.objects.filter(post=p)\n",
    "    for i in reaction:\n",
    "        if i.react_type not in d.keys():\n",
    "            d[i.react_type]=1\n",
    "        else:\n",
    "            d[i.react_type]+=1\n",
    "    return d\n",
    "            \n",
    "    "
   ]
  },
  {
   "cell_type": "code",
   "execution_count": 269,
   "metadata": {},
   "outputs": [
    {
     "data": {
      "text/plain": [
       "{'SAD': 1, 'LIKE': 2}"
      ]
     },
     "execution_count": 269,
     "metadata": {},
     "output_type": "execute_result"
    }
   ],
   "source": [
    "get_reaction_metrics(1)"
   ]
  },
  {
   "cell_type": "code",
   "execution_count": 294,
   "metadata": {},
   "outputs": [],
   "source": [
    "p=Post.objects.all()"
   ]
  },
  {
   "cell_type": "code",
   "execution_count": 304,
   "metadata": {},
   "outputs": [
    {
     "name": "stdout",
     "output_type": "stream",
     "text": [
      "<QuerySet [<Reactions: Reactions object (14)>, <Reactions: Reactions object (15)>, <Reactions: Reactions object (16)>]>\n",
      "SAD\n",
      "LIKE\n",
      "LIKE\n",
      "<QuerySet [<Reactions: Reactions object (17)>, <Reactions: Reactions object (18)>]>\n",
      "LOVE\n",
      "LOVE\n"
     ]
    }
   ],
   "source": [
    "for i in p:\n",
    "    q=i.reaction.all()\n",
    "    print(q)\n",
    "    for j in q:\n",
    "        print(j.react_type)"
   ]
  },
  {
   "cell_type": "code",
   "execution_count": 321,
   "metadata": {},
   "outputs": [],
   "source": [
    "def get_posts_with_positive_reactions():\n",
    "    pos=['LIKE','LOVE','HAHA','WOW']\n",
    "    neg=['ANGRY','SAD']\n",
    "    l=[]\n",
    "    post=Post.objects.all()\n",
    "    for i in post:\n",
    "        r=i.reaction.all()\n",
    "        p,n=0,0\n",
    "        for j in r:\n",
    "            if j.react_type in pos:\n",
    "                p+=1\n",
    "            elif j.react_type in neg:\n",
    "                n+=1\n",
    "        if(p>n):\n",
    "            l.append(i.id)\n",
    "    return l\n",
    "    "
   ]
  },
  {
   "cell_type": "code",
   "execution_count": 322,
   "metadata": {},
   "outputs": [
    {
     "data": {
      "text/plain": [
       "[1, 3]"
      ]
     },
     "execution_count": 322,
     "metadata": {},
     "output_type": "execute_result"
    }
   ],
   "source": [
    "get_posts_with_positive_reactions()"
   ]
  },
  {
   "cell_type": "code",
   "execution_count": null,
   "metadata": {},
   "outputs": [],
   "source": []
  }
 ],
 "metadata": {
  "kernelspec": {
   "display_name": "Python 3",
   "language": "python",
   "name": "python3"
  },
  "language_info": {
   "codemirror_mode": {
    "name": "ipython",
    "version": 3
   },
   "file_extension": ".py",
   "mimetype": "text/x-python",
   "name": "python",
   "nbconvert_exporter": "python",
   "pygments_lexer": "ipython3",
   "version": "3.7.3"
  }
 },
 "nbformat": 4,
 "nbformat_minor": 2
}
