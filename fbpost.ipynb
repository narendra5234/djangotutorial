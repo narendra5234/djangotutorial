{
 "cells": [
  {
   "cell_type": "code",
   "execution_count": 3,
   "metadata": {},
   "outputs": [],
   "source": [
    "import django\n",
    "import os\n",
    "os.environ.setdefault('DJANGO_SETTINGS_MODULE', 'mysite.settings')\n",
    "django.setup()"
   ]
  },
  {
   "cell_type": "code",
   "execution_count": 4,
   "metadata": {},
   "outputs": [],
   "source": [
    "from fbpost.models import *\n",
    "from datetime import datetime"
   ]
  },
  {
   "cell_type": "code",
   "execution_count": 5,
   "metadata": {},
   "outputs": [],
   "source": [
    "def dateformat(postedtime):\n",
    "    return postedtime.strftime(\"%Y-%m-%d %H:%M:%S.%f\")"
   ]
  },
  {
   "cell_type": "code",
   "execution_count": 6,
   "metadata": {},
   "outputs": [],
   "source": [
    "def get_comments(obj):\n",
    "    comment_dictionary = {}\n",
    "    comment_dictionary[\"comment_id\"] = obj.id\n",
    "    comment_dictionary[\"commenter\"] = get_user(obj)\n",
    "    comment_dictionary[\"commented_at\"] = dateformat(obj.comment_at)\n",
    "    comment_dictionary[\"comment_content\"] = obj.comment_content\n",
    "    comments_reactions = get_reactions(obj)\n",
    "    comment_dictionary['reactions'] = {\"count\":len(comments_reactions),\"type\":list(set(comments_reactions))}\n",
    "    return comment_dictionary"
   ]
  },
  {
   "cell_type": "code",
   "execution_count": 7,
   "metadata": {},
   "outputs": [],
   "source": [
    "\n",
    "def get_user(obj):\n",
    "    object_dictionary = {}\n",
    "    object_dictionary[\"name\"] = obj.user.username\n",
    "    object_dictionary[\"user_id\"] = obj.user.id\n",
    "    object_dictionary[\"profile_pic_url\"] = obj.user.pic_url\n",
    "    return object_dictionary"
   ]
  },
  {
   "cell_type": "code",
   "execution_count": 8,
   "metadata": {},
   "outputs": [],
   "source": [
    "def create_post(user_id,post_content):\n",
    "    try:\n",
    "        u=User.objects.get(id=user_id)\n",
    "    except User.DoesNotExist:\n",
    "        print(\"User Not Found\")\n",
    "        return\n",
    "    p1=Post.objects.create(post_datetime=dateformat(datetime.now()),post_content=post_content,user=u)\n",
    "    return p1.id"
   ]
  },
  {
   "cell_type": "code",
   "execution_count": 9,
   "metadata": {},
   "outputs": [],
   "source": [
    "def get_reactions(obj):\n",
    "    list_of_reactions=[]\n",
    "    for reaction_object in obj.reaction.all():\n",
    "        list_of_reactions.append(reaction_object.react_type)\n",
    "    return list_of_reactions"
   ]
  },
  {
   "cell_type": "markdown",
   "metadata": {},
   "source": [
    "# def get_post(post_id):\n",
    "    try:\n",
    "        post=Post.objects.get(id=post_id)\n",
    "    except User.DoesNotExist:\n",
    "        print(\"Post Not Found\")\n",
    "        return\n",
    "    d={}\n",
    "    d['post_id']=post_id\n",
    "    d['posted_by']=get_user(post)\n",
    "    d['posted_at']=str(post.post_datetime)[:-6]\n",
    "    d['post_content']=post.post_content\n",
    "    l=get_reactions(post)\n",
    "    d['reactions']={\"count\":len(l),\"type\":list(set(l))}\n",
    "    return d\n",
    "    \n",
    "    \n",
    "        "
   ]
  },
  {
   "cell_type": "code",
   "execution_count": 11,
   "metadata": {},
   "outputs": [],
   "source": [
    "def get_user_posts(user_id):\n",
    "    try:\n",
    "        User.objects.get(id=user_id)\n",
    "    except User.DoesNotExist:\n",
    "        print(\"User Not Found\")\n",
    "    l=[]\n",
    "    user=User.objects.get(id=user_id)\n",
    "    for i in user.posts.all():\n",
    "        l.append(get_post(i.id))\n",
    "    return l"
   ]
  },
  {
   "cell_type": "code",
   "execution_count": 12,
   "metadata": {},
   "outputs": [],
   "source": [
    "def delete_post(post_id):\n",
    "    try:\n",
    "        post = Post.objects.get(id=post_id)\n",
    "    except Post.DoesNotExist:\n",
    "        print(\"Post Not Found\")\n",
    "        return\n",
    "    post.delete()"
   ]
  },
  {
   "cell_type": "code",
   "execution_count": 13,
   "metadata": {},
   "outputs": [],
   "source": [
    "def react_to_post(user_id,post_id,reaction_type):\n",
    "    try:\n",
    "        User.objects.get(id=user_id)\n",
    "    except User.DoesNotExist:\n",
    "        print(\"Invalid User\")\n",
    "        return\n",
    "    try:\n",
    "        Post.objects.get(id=post_id)\n",
    "    except Post.DoesNotExist:\n",
    "        print(\"Invalid Post\")\n",
    "        return\n",
    "    if(reaction_type not in [\"HAHA\",\"LIKE\",\"SAD\",\"WOW\",\"LOVE\"]):\n",
    "        print(\"Reaction doesnot exist\")\n",
    "        return \n",
    "        \n",
    "    try:\n",
    "        reaction=Reactions.objects.get(user_id=user_id,post_id=post_id)\n",
    "    except Reactions.DoesNotExist:\n",
    "        print(\"No Reaction Found\")\n",
    "        r=Reactions.objects.create(react_type=reaction_type,post=Post.objects.get(id=post_id),user=User.objects.get(id=user_id))\n",
    "        return\n",
    "    if(reaction_type==reaction.react_type):\n",
    "        reaction.delete()\n",
    "    else:\n",
    "        reaction.react_type=reaction_type\n",
    "        reaction.save()\n",
    "        \n",
    "\n",
    "        \n",
    "    "
   ]
  },
  {
   "cell_type": "code",
   "execution_count": 14,
   "metadata": {},
   "outputs": [],
   "source": [
    "def get_posts_reacted_by_user(user_id):\n",
    "    try:\n",
    "        u=User.objects.get(id=user_id)\n",
    "    except User.DoesNotExist:\n",
    "        print(\"User Not Found\")\n",
    "        return\n",
    "    l=[]\n",
    "    reaction=Reactions.objects.filter(user=u)\n",
    "    for i in reaction:\n",
    "        p=i.post\n",
    "        l.append(p.id)\n",
    "    return l\n",
    "        "
   ]
  },
  {
   "cell_type": "code",
   "execution_count": 15,
   "metadata": {},
   "outputs": [],
   "source": [
    "def get_reactions_to_post(post_id):\n",
    "    try:\n",
    "        p=Post.objects.get(id=post_id)\n",
    "    except Post.DoesNotExist:\n",
    "        print(\"Post Not Found\")\n",
    "        return\n",
    "    l=[]\n",
    "    reaction_query_set=Reactions.objects.filter(post=p)\n",
    "#     print(reaction)\n",
    "    for reaction_object in reaction_query_set:\n",
    "        d=get_user(reaction_object)\n",
    "        d['reaction']=reaction_object.react_type\n",
    "        l.append(d)\n",
    "    return l\n",
    "    "
   ]
  },
  {
   "cell_type": "code",
   "execution_count": 16,
   "metadata": {},
   "outputs": [],
   "source": [
    "def get_reaction_metrics(post_id):\n",
    "    try:\n",
    "        p=Post.objects.get(id=post_id)\n",
    "    except Post.DoesNotExist:\n",
    "        print(\"Post Not Found\")\n",
    "        return\n",
    "    d={}\n",
    "    reaction=Reactions.objects.filter(post=p)\n",
    "    for i in reaction:\n",
    "        if i.react_type not in d.keys():\n",
    "            d[i.react_type]=1\n",
    "        else:\n",
    "            d[i.react_type]+=1\n",
    "    return d\n",
    "            \n",
    "    "
   ]
  },
  {
   "cell_type": "code",
   "execution_count": 17,
   "metadata": {},
   "outputs": [],
   "source": [
    "def get_posts_with_positive_reactions():\n",
    "    pos=['LIKE','LOVE','HAHA','WOW']\n",
    "    neg=['ANGRY','SAD']\n",
    "    l=[]\n",
    "    post=Post.objects.all()\n",
    "    for i in post:\n",
    "        r=i.reaction.all()\n",
    "        p,n=0,0\n",
    "        for j in r:\n",
    "            if j.react_type in pos:\n",
    "                p+=1\n",
    "            elif j.react_type in neg:\n",
    "                n+=1\n",
    "        if(p>n):\n",
    "            l.append(i.id)\n",
    "    return l\n",
    "    "
   ]
  },
  {
   "cell_type": "markdown",
   "metadata": {},
   "source": [
    "# FBV2"
   ]
  },
  {
   "cell_type": "code",
   "execution_count": 18,
   "metadata": {},
   "outputs": [],
   "source": [
    "def add_comment(post_id,user_id,comment_text):\n",
    "    try:\n",
    "        u=User.objects.get(id=user_id)\n",
    "    except User.DoesNotExist:\n",
    "        print(\"Invalid User\")\n",
    "        return\n",
    "    try:\n",
    "        p=Post.objects.get(id=post_id)\n",
    "    except Post.DoesNotExist:\n",
    "        print(\"Invalid Post\")\n",
    "        return\n",
    "    c=Comment.objects.create(user=u,post=p,comment_at=str(datetime.now()),comment_content=comment_text)\n",
    "    return c.id\n",
    "    "
   ]
  },
  {
   "cell_type": "markdown",
   "metadata": {},
   "source": [
    "def get_post(post_id):\n",
    "    try:\n",
    "        post=Post.objects.get(id=post_id)\n",
    "    except User.DoesNotExist:\n",
    "        print(\"Post Not Found\")\n",
    "        return\n",
    "\n",
    "    post_dictionary = {}\n",
    "    post_dictionary['post_id'] = post_id\n",
    "    post_dictionary['posted_by'] = {\n",
    "        \"name\": post.user.username,\n",
    "        \"user_id\":post.user.id,\n",
    "        \"profile_pic_url\":post.user.pic_url\n",
    "    }\n",
    "    post_dictionary['posted_at'] = str(post.post_datetime)[:-6]\n",
    "    post_dictionary['post_content'] = post.post_content\n",
    "    \n",
    "    post_reactions = []\n",
    "    for reaction_obj in post.reaction.all():\n",
    "        post_reactions.append(reaction_obj.react_type)\n",
    "    post_dictionary['reactions']={\n",
    "        \"count\":len(post_reactions),\n",
    "        \"type\":list(set(post_reactions))\n",
    "    }\n",
    "    \n",
    "    comment_queryset=post.comments.all()\n",
    "    list_of_comments_dictionary = []\n",
    "    for comment in comment_queryset:\n",
    "        comment_dictionary = {}\n",
    "        comment_dictionary[\"comment_id\"]=comment.id\n",
    "        comment_dictionary[\"commenter\"]= {\n",
    "            \"name\":comment.user.username,\n",
    "            \"user_id\":comment.user.id,\n",
    "            \"profile_pic_url\":comment.user.pic_url\n",
    "        }\n",
    "        comment_dictionary[\"commented_at\"]=str(comment.comment_at)\n",
    "        comment_dictionary[\"comment_content\"]=comment.comment_content\n",
    "        comments_reactions = []\n",
    "        for reaction_obj in comment.reaction.all():\n",
    "            comments_reactions.append(reaction_obj.react_type)\n",
    "        comment_dictionary['commentreactions']={\n",
    "            \"count\":len(comments_reactions),\n",
    "            \"type\":list(set(comments_reactions))\n",
    "        }\n",
    "        list_of_comments_dictionary.append(comment_dictionary)\n",
    "    print(post_dictionary)\n",
    "    print('\\n\\n')\n",
    "    print(list_of_comments_dictionary)\n",
    "    # \n",
    "    post_dictionary[\"comments\"]=list_of_comments_dictionary\n",
    "    post_dictionary[\"comments_count\"]=len(list_of_comments_dictionary)\n",
    "    return post_dictionary\n",
    "    \n",
    "    \n",
    "        "
   ]
  },
  {
   "cell_type": "code",
   "execution_count": null,
   "metadata": {},
   "outputs": [],
   "source": [
    "def react_to_comment(user_id,comment_id,reaction_type):\n",
    "    try:\n",
    "        user=User.objects.get(id=user_id)\n",
    "    except User.DoesNotExist:\n",
    "        print(\"Invalid User\")\n",
    "        return\n",
    "    try:\n",
    "        comment=Comment.objects.get(id=comment_id)\n",
    "    except Comment.DoesNotExist:\n",
    "        print(\"Invalid Comment\")\n",
    "        return\n",
    "    if(reaction_type not in [\"HAHA\",\"LIKE\",\"SAD\",\"WOW\",\"LOVE\"]):\n",
    "        print(\"Reaction doesnot exist\")\n",
    "        return \n",
    "        \n",
    "    try:\n",
    "        reaction=Reactions.objects.get(user_id=user_id,comment_id=comment_id)\n",
    "    except Reactions.DoesNotExist:\n",
    "        print(\"No Reaction Found\")\n",
    "        r=Reactions.objects.create(react_type=reaction_type,user=user,comment=comment)\n",
    "        return\n",
    "    if(reaction_type==reaction.react_type):\n",
    "        reaction.delete()\n",
    "    else:\n",
    "        reaction.react_type=reaction_type\n",
    "        reaction.save()\n",
    "        "
   ]
  },
  {
   "cell_type": "markdown",
   "metadata": {},
   "source": [
    "# FBv3"
   ]
  },
  {
   "cell_type": "code",
   "execution_count": null,
   "metadata": {},
   "outputs": [],
   "source": [
    "def reply_to_comment(comment_id,user_id,reply_text):\n",
    "    try:\n",
    "        user=User.objects.get(id=user_id)\n",
    "    except User.DoesNotExist:\n",
    "        print(\"Invalid User\")\n",
    "        return\n",
    "    try:\n",
    "        comment=Comment.objects.get(id=comment_id)\n",
    "    except Comment.DoesNotExist:\n",
    "        print(\"Invalid Comment\")\n",
    "        return\n",
    "    \n",
    "    reply=Comment.objects.create(parent_comment=comment,user=user,comment_at=str(datetime.now()),comment_content=reply_text)\n",
    "    return reply.id"
   ]
  },
  {
   "cell_type": "code",
   "execution_count": 20,
   "metadata": {},
   "outputs": [],
   "source": [
    "def get_post(post_id):\n",
    "    try:\n",
    "        post = Post.objects.get(id=post_id)\n",
    "    except User.DoesNotExist:\n",
    "        print(\"Post Not Found\")\n",
    "        return\n",
    "\n",
    "    post_dictionary = {}\n",
    "    post_dictionary['post_id'] = post_id\n",
    "    post_dictionary['posted_by'] = get_user(post)\n",
    "    post_dictionary['posted_at'] = dateformat(post.post_datetime)\n",
    "    post_dictionary['post_content'] = post.post_content\n",
    "\n",
    "    post_reactions = get_reactions(post)\n",
    "    post_dictionary['reactions'] = {\n",
    "        \"count\": len(post_reactions),\n",
    "        \"type\": list(set(post_reactions))\n",
    "    }\n",
    "\n",
    "    comment_queryset = post.comments.all()\n",
    "    list_of_comments_dictionary = []\n",
    "    for comment in comment_queryset:\n",
    "        comment_dictionary = get_comments(comment)\n",
    "        list_of_reply_dictionary = []\n",
    "        reply_query_set = comment.reply.all()\n",
    "        for reply in reply_query_set:\n",
    "            reply_dictionary = get_comments(reply)\n",
    "            list_of_reply_dictionary.append(reply_dictionary)\n",
    "        comment_dictionary[\"replies_count\"] = len(list_of_reply_dictionary)\n",
    "        comment_dictionary[\"replies\"] = list_of_reply_dictionary\n",
    "        list_of_comments_dictionary.append(comment_dictionary)\n",
    "    post_dictionary[\"comments\"] = list_of_comments_dictionary\n",
    "    post_dictionary[\"comments_count\"] = len(list_of_comments_dictionary)\n",
    "    return post_dictionary"
   ]
  },
  {
   "cell_type": "code",
   "execution_count": 34,
   "metadata": {},
   "outputs": [],
   "source": [
    "def get_replies_for_comment(comment_id):\n",
    "    try:\n",
    "        comment=Comment.objects.get(id=comment_id)\n",
    "    except Comment.DoesNotExist:\n",
    "        print(\"Invalid Comment\")\n",
    "        return\n",
    "    list_of_reply_dictionary=[]\n",
    "    reply_query_set=comment.reply.all()\n",
    "    for reply in reply_query_set:\n",
    "        list_of_reply_dictionary=get_comments(reply)\n",
    "        list_of_reply_dictionary.pop('reactions', None)\n",
    "    return list_of_reply_dictionary\n",
    "    "
   ]
  },
  {
   "cell_type": "code",
   "execution_count": 36,
   "metadata": {},
   "outputs": [
    {
     "data": {
      "text/plain": [
       "{'comment_id': 5,\n",
       " 'commenter': {'name': 'narendra',\n",
       "  'user_id': 1,\n",
       "  'profile_pic_url': 'https://dummy.url.com/pic3.png'},\n",
       " 'commented_at': '2019-07-08 06:38:32.701713',\n",
       " 'comment_content': 'What man'}"
      ]
     },
     "execution_count": 36,
     "metadata": {},
     "output_type": "execute_result"
    }
   ],
   "source": [
    "get_replies_for_comment(1)"
   ]
  },
  {
   "cell_type": "code",
   "execution_count": 25,
   "metadata": {},
   "outputs": [
    {
     "data": {
      "text/plain": [
       "<QuerySet [<Comment: Comment object (1)>, <Comment: Comment object (2)>, <Comment: Comment object (3)>, <Comment: Comment object (4)>, <Comment: Comment object (5)>]>"
      ]
     },
     "execution_count": 25,
     "metadata": {},
     "output_type": "execute_result"
    }
   ],
   "source": [
    "Comment.objects.all()"
   ]
  },
  {
   "cell_type": "code",
   "execution_count": null,
   "metadata": {},
   "outputs": [],
   "source": []
  }
 ],
 "metadata": {
  "kernelspec": {
   "display_name": "Python 3",
   "language": "python",
   "name": "python3"
  },
  "language_info": {
   "codemirror_mode": {
    "name": "ipython",
    "version": 3
   },
   "file_extension": ".py",
   "mimetype": "text/x-python",
   "name": "python",
   "nbconvert_exporter": "python",
   "pygments_lexer": "ipython3",
   "version": "3.7.3"
  }
 },
 "nbformat": 4,
 "nbformat_minor": 2
}
