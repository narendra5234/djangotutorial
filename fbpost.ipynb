{
 "cells": [
  {
   "cell_type": "code",
   "execution_count": 1,
   "metadata": {},
   "outputs": [],
   "source": [
    "import django\n",
    "import os\n",
    "os.environ.setdefault('DJANGO_SETTINGS_MODULE', 'mysite.settings')\n",
    "django.setup()"
   ]
  },
  {
   "cell_type": "code",
   "execution_count": 2,
   "metadata": {},
   "outputs": [],
   "source": [
    "from fbpost.models import *\n",
    "from datetime import datetime"
   ]
  },
  {
   "cell_type": "code",
   "execution_count": 3,
   "metadata": {},
   "outputs": [],
   "source": [
    "def create_post(user_id,post_content):\n",
    "    try:\n",
    "        User.objects.get(id=user_id)\n",
    "        \n",
    "    except User.DoesNotExist:\n",
    "        print(\"User Not Found\")\n",
    "        return\n",
    "    \n",
    "    p1=Post.objects.create(post_datetime=str(datetime.now()),post_content=post_content,user=User.objects.get(id=user_id))\n",
    "    return p1.id"
   ]
  },
  {
   "cell_type": "code",
   "execution_count": 4,
   "metadata": {},
   "outputs": [
    {
     "name": "stderr",
     "output_type": "stream",
     "text": [
      "/home/ib_admin/PycharmProjects/djangotutorial/.venv/lib/python3.7/site-packages/django/db/models/fields/__init__.py:1421: RuntimeWarning: DateTimeField Post.post_datetime received a naive datetime (2019-07-05 15:32:09.739750) while time zone support is active.\n",
      "  RuntimeWarning)\n"
     ]
    },
    {
     "data": {
      "text/plain": [
       "3"
      ]
     },
     "execution_count": 4,
     "metadata": {},
     "output_type": "execute_result"
    }
   ],
   "source": [
    "create_post(1,\"Science News\")"
   ]
  },
  {
   "cell_type": "code",
   "execution_count": 5,
   "metadata": {},
   "outputs": [],
   "source": [
    "u3=User.objects.create(username=\"vamsi\",pic_url=\"https://dummy.url.com/pic2.png\")"
   ]
  },
  {
   "cell_type": "code",
   "execution_count": 6,
   "metadata": {},
   "outputs": [
    {
     "data": {
      "text/plain": [
       "<QuerySet [<User: User object (1)>, <User: User object (2)>, <User: User object (3)>, <User: User object (4)>]>"
      ]
     },
     "execution_count": 6,
     "metadata": {},
     "output_type": "execute_result"
    }
   ],
   "source": [
    "User.objects.all()"
   ]
  },
  {
   "cell_type": "code",
   "execution_count": 7,
   "metadata": {},
   "outputs": [
    {
     "data": {
      "text/plain": [
       "<Post: Post object (2)>"
      ]
     },
     "execution_count": 7,
     "metadata": {},
     "output_type": "execute_result"
    }
   ],
   "source": [
    "Post.objects.get(id=2)\n",
    "    "
   ]
  },
  {
   "cell_type": "code",
   "execution_count": 8,
   "metadata": {},
   "outputs": [
    {
     "ename": "DoesNotExist",
     "evalue": "Reactions matching query does not exist.",
     "output_type": "error",
     "traceback": [
      "\u001b[0;31m---------------------------------------------------------------------------\u001b[0m",
      "\u001b[0;31mDoesNotExist\u001b[0m                              Traceback (most recent call last)",
      "\u001b[0;32m<ipython-input-8-fb4a61d60b36>\u001b[0m in \u001b[0;36m<module>\u001b[0;34m\u001b[0m\n\u001b[0;32m----> 1\u001b[0;31m \u001b[0ms\u001b[0m\u001b[0;34m=\u001b[0m\u001b[0mReactions\u001b[0m\u001b[0;34m.\u001b[0m\u001b[0mobjects\u001b[0m\u001b[0;34m.\u001b[0m\u001b[0mget\u001b[0m\u001b[0;34m(\u001b[0m\u001b[0mid\u001b[0m\u001b[0;34m=\u001b[0m\u001b[0;36m1\u001b[0m\u001b[0;34m)\u001b[0m\u001b[0;34m\u001b[0m\u001b[0;34m\u001b[0m\u001b[0m\n\u001b[0m",
      "\u001b[0;32m~/PycharmProjects/djangotutorial/.venv/lib/python3.7/site-packages/django/db/models/manager.py\u001b[0m in \u001b[0;36mmanager_method\u001b[0;34m(self, *args, **kwargs)\u001b[0m\n\u001b[1;32m     80\u001b[0m         \u001b[0;32mdef\u001b[0m \u001b[0mcreate_method\u001b[0m\u001b[0;34m(\u001b[0m\u001b[0mname\u001b[0m\u001b[0;34m,\u001b[0m \u001b[0mmethod\u001b[0m\u001b[0;34m)\u001b[0m\u001b[0;34m:\u001b[0m\u001b[0;34m\u001b[0m\u001b[0;34m\u001b[0m\u001b[0m\n\u001b[1;32m     81\u001b[0m             \u001b[0;32mdef\u001b[0m \u001b[0mmanager_method\u001b[0m\u001b[0;34m(\u001b[0m\u001b[0mself\u001b[0m\u001b[0;34m,\u001b[0m \u001b[0;34m*\u001b[0m\u001b[0margs\u001b[0m\u001b[0;34m,\u001b[0m \u001b[0;34m**\u001b[0m\u001b[0mkwargs\u001b[0m\u001b[0;34m)\u001b[0m\u001b[0;34m:\u001b[0m\u001b[0;34m\u001b[0m\u001b[0;34m\u001b[0m\u001b[0m\n\u001b[0;32m---> 82\u001b[0;31m                 \u001b[0;32mreturn\u001b[0m \u001b[0mgetattr\u001b[0m\u001b[0;34m(\u001b[0m\u001b[0mself\u001b[0m\u001b[0;34m.\u001b[0m\u001b[0mget_queryset\u001b[0m\u001b[0;34m(\u001b[0m\u001b[0;34m)\u001b[0m\u001b[0;34m,\u001b[0m \u001b[0mname\u001b[0m\u001b[0;34m)\u001b[0m\u001b[0;34m(\u001b[0m\u001b[0;34m*\u001b[0m\u001b[0margs\u001b[0m\u001b[0;34m,\u001b[0m \u001b[0;34m**\u001b[0m\u001b[0mkwargs\u001b[0m\u001b[0;34m)\u001b[0m\u001b[0;34m\u001b[0m\u001b[0;34m\u001b[0m\u001b[0m\n\u001b[0m\u001b[1;32m     83\u001b[0m             \u001b[0mmanager_method\u001b[0m\u001b[0;34m.\u001b[0m\u001b[0m__name__\u001b[0m \u001b[0;34m=\u001b[0m \u001b[0mmethod\u001b[0m\u001b[0;34m.\u001b[0m\u001b[0m__name__\u001b[0m\u001b[0;34m\u001b[0m\u001b[0;34m\u001b[0m\u001b[0m\n\u001b[1;32m     84\u001b[0m             \u001b[0mmanager_method\u001b[0m\u001b[0;34m.\u001b[0m\u001b[0m__doc__\u001b[0m \u001b[0;34m=\u001b[0m \u001b[0mmethod\u001b[0m\u001b[0;34m.\u001b[0m\u001b[0m__doc__\u001b[0m\u001b[0;34m\u001b[0m\u001b[0;34m\u001b[0m\u001b[0m\n",
      "\u001b[0;32m~/PycharmProjects/djangotutorial/.venv/lib/python3.7/site-packages/django/db/models/query.py\u001b[0m in \u001b[0;36mget\u001b[0;34m(self, *args, **kwargs)\u001b[0m\n\u001b[1;32m    406\u001b[0m             raise self.model.DoesNotExist(\n\u001b[1;32m    407\u001b[0m                 \u001b[0;34m\"%s matching query does not exist.\"\u001b[0m \u001b[0;34m%\u001b[0m\u001b[0;34m\u001b[0m\u001b[0;34m\u001b[0m\u001b[0m\n\u001b[0;32m--> 408\u001b[0;31m                 \u001b[0mself\u001b[0m\u001b[0;34m.\u001b[0m\u001b[0mmodel\u001b[0m\u001b[0;34m.\u001b[0m\u001b[0m_meta\u001b[0m\u001b[0;34m.\u001b[0m\u001b[0mobject_name\u001b[0m\u001b[0;34m\u001b[0m\u001b[0;34m\u001b[0m\u001b[0m\n\u001b[0m\u001b[1;32m    409\u001b[0m             )\n\u001b[1;32m    410\u001b[0m         raise self.model.MultipleObjectsReturned(\n",
      "\u001b[0;31mDoesNotExist\u001b[0m: Reactions matching query does not exist."
     ]
    }
   ],
   "source": [
    "s=Reactions.objects.get(id=1)"
   ]
  },
  {
   "cell_type": "code",
   "execution_count": 9,
   "metadata": {},
   "outputs": [
    {
     "ename": "NameError",
     "evalue": "name 's' is not defined",
     "output_type": "error",
     "traceback": [
      "\u001b[0;31m---------------------------------------------------------------------------\u001b[0m",
      "\u001b[0;31mNameError\u001b[0m                                 Traceback (most recent call last)",
      "\u001b[0;32m<ipython-input-9-fecec9ce6e3a>\u001b[0m in \u001b[0;36m<module>\u001b[0;34m\u001b[0m\n\u001b[0;32m----> 1\u001b[0;31m \u001b[0ms\u001b[0m\u001b[0;34m.\u001b[0m\u001b[0mreact_type\u001b[0m\u001b[0;34m\u001b[0m\u001b[0;34m\u001b[0m\u001b[0m\n\u001b[0m",
      "\u001b[0;31mNameError\u001b[0m: name 's' is not defined"
     ]
    }
   ],
   "source": [
    "s.react_type"
   ]
  },
  {
   "cell_type": "code",
   "execution_count": 10,
   "metadata": {},
   "outputs": [
    {
     "ename": "NameError",
     "evalue": "name 'u1' is not defined",
     "output_type": "error",
     "traceback": [
      "\u001b[0;31m---------------------------------------------------------------------------\u001b[0m",
      "\u001b[0;31mNameError\u001b[0m                                 Traceback (most recent call last)",
      "\u001b[0;32m<ipython-input-10-86435207e101>\u001b[0m in \u001b[0;36m<module>\u001b[0;34m\u001b[0m\n\u001b[0;32m----> 1\u001b[0;31m \u001b[0mr2\u001b[0m\u001b[0;34m=\u001b[0m\u001b[0mReactions\u001b[0m\u001b[0;34m.\u001b[0m\u001b[0mobjects\u001b[0m\u001b[0;34m.\u001b[0m\u001b[0mcreate\u001b[0m\u001b[0;34m(\u001b[0m\u001b[0mreact_type\u001b[0m\u001b[0;34m=\u001b[0m\u001b[0;34m'WOW'\u001b[0m\u001b[0;34m,\u001b[0m\u001b[0mpost\u001b[0m\u001b[0;34m=\u001b[0m\u001b[0mPost\u001b[0m\u001b[0;34m.\u001b[0m\u001b[0mobjects\u001b[0m\u001b[0;34m.\u001b[0m\u001b[0mget\u001b[0m\u001b[0;34m(\u001b[0m\u001b[0mid\u001b[0m\u001b[0;34m=\u001b[0m\u001b[0;36m1\u001b[0m\u001b[0;34m)\u001b[0m\u001b[0;34m,\u001b[0m\u001b[0muser\u001b[0m\u001b[0;34m=\u001b[0m\u001b[0mu1\u001b[0m\u001b[0;34m)\u001b[0m\u001b[0;34m\u001b[0m\u001b[0;34m\u001b[0m\u001b[0m\n\u001b[0m",
      "\u001b[0;31mNameError\u001b[0m: name 'u1' is not defined"
     ]
    }
   ],
   "source": [
    "r2=Reactions.objects.create(react_type='WOW',post=Post.objects.get(id=1),user=u1)"
   ]
  },
  {
   "cell_type": "code",
   "execution_count": 11,
   "metadata": {},
   "outputs": [],
   "source": [
    "def get_post(post_id):\n",
    "    try:\n",
    "        Post.objects.get(id=post_id)\n",
    "    except User.DoesNotExist:\n",
    "        print(\"Post Not Found\")\n",
    "        return\n",
    "    d={}\n",
    "    post=Post.objects.get(id=post_id)\n",
    "    d['post_id']=post_id\n",
    "    d['posted_by']={\"name\":post.user.username,\"user_id\":post.user.id,\"profile_pic_url\":post.user.pic_url}\n",
    "    d['posted_at']=str(post.post_datetime)[:-6]\n",
    "    d['post_content']=post.post_content\n",
    "    l=[]\n",
    "    for i in post.reaction.all():\n",
    "        l.append(i.react_type)\n",
    "    d['reactions']={\"count\":len(l),\"type\":list(set(l))}\n",
    "    return d\n",
    "    \n",
    "    \n",
    "        "
   ]
  },
  {
   "cell_type": "code",
   "execution_count": 12,
   "metadata": {},
   "outputs": [
    {
     "data": {
      "text/plain": [
       "{'post_id': 1,\n",
       " 'posted_by': {'name': 'narendra',\n",
       "  'user_id': 1,\n",
       "  'profile_pic_url': 'https://dummy.url.com/pic.png'},\n",
       " 'posted_at': '2019-07-05 04:27:18.690928',\n",
       " 'post_content': 'Tech News',\n",
       " 'reactions': {'count': 2, 'type': ['HAHA', 'LIKE']}}"
      ]
     },
     "execution_count": 12,
     "metadata": {},
     "output_type": "execute_result"
    }
   ],
   "source": [
    "get_post(1)"
   ]
  },
  {
   "cell_type": "code",
   "execution_count": 13,
   "metadata": {},
   "outputs": [],
   "source": [
    "def get_user_posts(user_id):\n",
    "    try:\n",
    "        User.objects.get(id=user_id)\n",
    "    except User.DoesNotExist:\n",
    "        print(\"User Not Found\")\n",
    "    l=[]\n",
    "    user=User.objects.get(id=user_id)\n",
    "    for i in user.posts.all():\n",
    "        l.append(get_post(i.id))\n",
    "    return l"
   ]
  },
  {
   "cell_type": "code",
   "execution_count": 14,
   "metadata": {},
   "outputs": [
    {
     "data": {
      "text/plain": [
       "[{'post_id': 1,\n",
       "  'posted_by': {'name': 'narendra',\n",
       "   'user_id': 1,\n",
       "   'profile_pic_url': 'https://dummy.url.com/pic.png'},\n",
       "  'posted_at': '2019-07-05 04:27:18.690928',\n",
       "  'post_content': 'Tech News',\n",
       "  'reactions': {'count': 2, 'type': ['HAHA', 'LIKE']}},\n",
       " {'post_id': 2,\n",
       "  'posted_by': {'name': 'narendra',\n",
       "   'user_id': 1,\n",
       "   'profile_pic_url': 'https://dummy.url.com/pic.png'},\n",
       "  'posted_at': '2019-07-05 04:27:29.178955',\n",
       "  'post_content': 'Science News',\n",
       "  'reactions': {'count': 2, 'type': ['SAD', 'LIKE']}},\n",
       " {'post_id': 3,\n",
       "  'posted_by': {'name': 'narendra',\n",
       "   'user_id': 1,\n",
       "   'profile_pic_url': 'https://dummy.url.com/pic.png'},\n",
       "  'posted_at': '2019-07-05 10:02:09.739750',\n",
       "  'post_content': 'Science News',\n",
       "  'reactions': {'count': 0, 'type': []}}]"
      ]
     },
     "execution_count": 14,
     "metadata": {},
     "output_type": "execute_result"
    }
   ],
   "source": [
    "get_user_posts(1)"
   ]
  },
  {
   "cell_type": "code",
   "execution_count": 15,
   "metadata": {},
   "outputs": [],
   "source": [
    "def delete_post(post_id):\n",
    "    try:\n",
    "        post = Post.objects.get(id=post_id)\n",
    "    except Post.DoesNotExist:\n",
    "        print(\"Post Not Found\")\n",
    "        return\n",
    "    post.delete()"
   ]
  },
  {
   "cell_type": "code",
   "execution_count": 16,
   "metadata": {},
   "outputs": [],
   "source": [
    "delete_post(2)"
   ]
  },
  {
   "cell_type": "code",
   "execution_count": 17,
   "metadata": {},
   "outputs": [],
   "source": [
    "def react_to_post(user_id,post_id,reaction_type):\n",
    "    try:\n",
    "        User.objects.get(id=user_id)\n",
    "    except User.DoesNotExist:\n",
    "        print(\"Invalid User\")\n",
    "        return\n",
    "    try:\n",
    "        Post.objects.get(id=post_id)\n",
    "    except Post.DoesNotExist:\n",
    "        print(\"Invalid Post\")\n",
    "        return\n",
    "    if(reaction_type not in [\"HAHA\",\"LIKE\",\"SAD\",\"WOW\",\"LOVE\"]):\n",
    "        print(\"Reaction doesnot exist\")\n",
    "        return \n",
    "        \n",
    "    try:\n",
    "        reaction=Reactions.objects.get(user_id=user_id,post_id=post_id)\n",
    "    except Reactions.DoesNotExist:\n",
    "        print(\"No Reaction Found\")\n",
    "        r=Reactions.objects.create(react_type=reaction_type,post=Post.objects.get(id=post_id),user=User.objects.get(id=user_id))\n",
    "        return\n",
    "    if(reaction_type==reaction.react_type):\n",
    "        reaction.delete()\n",
    "    else:\n",
    "        reaction.react_type=reaction_type\n",
    "        reaction.save()\n",
    "        \n",
    "\n",
    "        \n",
    "    "
   ]
  },
  {
   "cell_type": "code",
   "execution_count": 18,
   "metadata": {},
   "outputs": [
    {
     "data": {
      "text/plain": [
       "<QuerySet [<User: User object (1)>, <User: User object (2)>, <User: User object (3)>, <User: User object (4)>]>"
      ]
     },
     "execution_count": 18,
     "metadata": {},
     "output_type": "execute_result"
    }
   ],
   "source": [
    "User.objects.all()"
   ]
  },
  {
   "cell_type": "code",
   "execution_count": 19,
   "metadata": {},
   "outputs": [
    {
     "data": {
      "text/plain": [
       "<QuerySet [<Post: Post object (1)>, <Post: Post object (3)>]>"
      ]
     },
     "execution_count": 19,
     "metadata": {},
     "output_type": "execute_result"
    }
   ],
   "source": [
    "Post.objects.all()"
   ]
  },
  {
   "cell_type": "code",
   "execution_count": 20,
   "metadata": {},
   "outputs": [
    {
     "name": "stdout",
     "output_type": "stream",
     "text": [
      "Invalid Post\n"
     ]
    }
   ],
   "source": [
    "react_to_post(1,2,\"SAD\")"
   ]
  },
  {
   "cell_type": "code",
   "execution_count": null,
   "metadata": {},
   "outputs": [],
   "source": []
  },
  {
   "cell_type": "code",
   "execution_count": 21,
   "metadata": {},
   "outputs": [],
   "source": [
    "u=User.objects.get(id=1)"
   ]
  },
  {
   "cell_type": "code",
   "execution_count": 22,
   "metadata": {},
   "outputs": [
    {
     "name": "stdout",
     "output_type": "stream",
     "text": [
      "HAHA\n",
      "LIKE\n",
      "WOW\n",
      "LOVE\n"
     ]
    }
   ],
   "source": [
    "for i in Reactions.objects.all():\n",
    "    print(i.react_type)"
   ]
  },
  {
   "cell_type": "code",
   "execution_count": 23,
   "metadata": {},
   "outputs": [
    {
     "data": {
      "text/plain": [
       "<QuerySet [<Reactions: Reactions object (2)>, <Reactions: Reactions object (3)>, <Reactions: Reactions object (7)>, <Reactions: Reactions object (8)>]>"
      ]
     },
     "execution_count": 23,
     "metadata": {},
     "output_type": "execute_result"
    }
   ],
   "source": [
    "Reactions.objects.all()"
   ]
  },
  {
   "cell_type": "code",
   "execution_count": 24,
   "metadata": {},
   "outputs": [
    {
     "data": {
      "text/plain": [
       "<QuerySet []>"
      ]
     },
     "execution_count": 24,
     "metadata": {},
     "output_type": "execute_result"
    }
   ],
   "source": [
    "Reactions.objects.filter(user=u)"
   ]
  },
  {
   "cell_type": "code",
   "execution_count": 25,
   "metadata": {},
   "outputs": [
    {
     "data": {
      "text/plain": [
       "<QuerySet [<Reactions: Reactions object (2)>, <Reactions: Reactions object (3)>, <Reactions: Reactions object (7)>, <Reactions: Reactions object (8)>]>"
      ]
     },
     "execution_count": 25,
     "metadata": {},
     "output_type": "execute_result"
    }
   ],
   "source": [
    "Reactions.objects.all()"
   ]
  },
  {
   "cell_type": "code",
   "execution_count": 26,
   "metadata": {},
   "outputs": [],
   "source": [
    "def get_posts_reacted_by_user(user_id):\n",
    "    try:\n",
    "        u=User.objects.get(id=user_id)\n",
    "    except User.DoesNotExist:\n",
    "        print(\"User Not Found\")\n",
    "        return\n",
    "    l=[]\n",
    "    reaction=Reactions.objects.filter(user=u)\n",
    "    for i in reaction:\n",
    "        p=i.post\n",
    "        l.append(p.id)\n",
    "    return l\n",
    "        "
   ]
  },
  {
   "cell_type": "code",
   "execution_count": 27,
   "metadata": {},
   "outputs": [
    {
     "data": {
      "text/plain": [
       "[]"
      ]
     },
     "execution_count": 27,
     "metadata": {},
     "output_type": "execute_result"
    }
   ],
   "source": [
    "get_posts_reacted_by_user(1)"
   ]
  },
  {
   "cell_type": "code",
   "execution_count": 28,
   "metadata": {},
   "outputs": [],
   "source": [
    "def get_reactions_to_post(post_id):\n",
    "    try:\n",
    "        p=Post.objects.get(id=post_id)\n",
    "    except Post.DoesNotExist:\n",
    "        print(\"Post Not Found\")\n",
    "        return\n",
    "    l=[]\n",
    "    reaction=Reactions.objects.filter(post=p)\n",
    "#     print(reaction)\n",
    "    for i in reaction:\n",
    "        d={}\n",
    "        d['user_id']=i.user.id\n",
    "        d['name']=i.user.username\n",
    "        d['profile_pic']=i.user.pic_url\n",
    "        d['reaction']=i.react_type\n",
    "        l.append(d)\n",
    "    return l\n",
    "    "
   ]
  },
  {
   "cell_type": "code",
   "execution_count": 29,
   "metadata": {},
   "outputs": [
    {
     "data": {
      "text/plain": [
       "[{'user_id': 2,\n",
       "  'name': 'mohan',\n",
       "  'profile_pic': 'https://dummy.url.com/pic1.png',\n",
       "  'reaction': 'HAHA'},\n",
       " {'user_id': 3,\n",
       "  'name': 'vamsi',\n",
       "  'profile_pic': 'https://dummy.url.com/pic2.png',\n",
       "  'reaction': 'LIKE'}]"
      ]
     },
     "execution_count": 29,
     "metadata": {},
     "output_type": "execute_result"
    }
   ],
   "source": [
    "get_reactions_to_post(1)"
   ]
  },
  {
   "cell_type": "code",
   "execution_count": 30,
   "metadata": {},
   "outputs": [],
   "source": [
    "l=['SAD','HAHA','HAHA']"
   ]
  },
  {
   "cell_type": "code",
   "execution_count": 31,
   "metadata": {},
   "outputs": [],
   "source": [
    "def get_reaction_metrics(post_id):\n",
    "    try:\n",
    "        p=Post.objects.get(id=post_id)\n",
    "    except Post.DoesNotExist:\n",
    "        print(\"Post Not Found\")\n",
    "        return\n",
    "    d={}\n",
    "    reaction=Reactions.objects.filter(post=p)\n",
    "    for i in reaction:\n",
    "        if i.react_type not in d.keys():\n",
    "            d[i.react_type]=1\n",
    "        else:\n",
    "            d[i.react_type]+=1\n",
    "    return d\n",
    "            \n",
    "    "
   ]
  },
  {
   "cell_type": "code",
   "execution_count": 32,
   "metadata": {},
   "outputs": [
    {
     "data": {
      "text/plain": [
       "{'HAHA': 1, 'LIKE': 1}"
      ]
     },
     "execution_count": 32,
     "metadata": {},
     "output_type": "execute_result"
    }
   ],
   "source": [
    "get_reaction_metrics(1)"
   ]
  },
  {
   "cell_type": "code",
   "execution_count": 33,
   "metadata": {},
   "outputs": [],
   "source": [
    "p=Post.objects.all()"
   ]
  },
  {
   "cell_type": "code",
   "execution_count": 34,
   "metadata": {},
   "outputs": [
    {
     "name": "stdout",
     "output_type": "stream",
     "text": [
      "<QuerySet [<Reactions: Reactions object (2)>, <Reactions: Reactions object (3)>]>\n",
      "HAHA\n",
      "LIKE\n",
      "<QuerySet []>\n"
     ]
    }
   ],
   "source": [
    "for i in p:\n",
    "    q=i.reaction.all()\n",
    "    print(q)\n",
    "    for j in q:\n",
    "        print(j.react_type)"
   ]
  },
  {
   "cell_type": "code",
   "execution_count": 35,
   "metadata": {},
   "outputs": [],
   "source": [
    "def get_posts_with_positive_reactions():\n",
    "    pos=['LIKE','LOVE','HAHA','WOW']\n",
    "    neg=['ANGRY','SAD']\n",
    "    l=[]\n",
    "    post=Post.objects.all()\n",
    "    for i in post:\n",
    "        r=i.reaction.all()\n",
    "        p,n=0,0\n",
    "        for j in r:\n",
    "            if j.react_type in pos:\n",
    "                p+=1\n",
    "            elif j.react_type in neg:\n",
    "                n+=1\n",
    "        if(p>n):\n",
    "            l.append(i.id)\n",
    "    return l\n",
    "    "
   ]
  },
  {
   "cell_type": "code",
   "execution_count": 36,
   "metadata": {},
   "outputs": [
    {
     "data": {
      "text/plain": [
       "[1]"
      ]
     },
     "execution_count": 36,
     "metadata": {},
     "output_type": "execute_result"
    }
   ],
   "source": [
    "get_posts_with_positive_reactions()"
   ]
  },
  {
   "cell_type": "markdown",
   "metadata": {},
   "source": [
    "# FBV2"
   ]
  },
  {
   "cell_type": "code",
   "execution_count": 37,
   "metadata": {},
   "outputs": [
    {
     "data": {
      "text/plain": [
       "<QuerySet [<User: User object (1)>, <User: User object (2)>, <User: User object (3)>, <User: User object (4)>]>"
      ]
     },
     "execution_count": 37,
     "metadata": {},
     "output_type": "execute_result"
    }
   ],
   "source": [
    "User.objects.all()"
   ]
  },
  {
   "cell_type": "code",
   "execution_count": 38,
   "metadata": {},
   "outputs": [
    {
     "data": {
      "text/plain": [
       "<QuerySet [<Post: Post object (1)>, <Post: Post object (3)>]>"
      ]
     },
     "execution_count": 38,
     "metadata": {},
     "output_type": "execute_result"
    }
   ],
   "source": [
    "Post.objects.all()"
   ]
  },
  {
   "cell_type": "code",
   "execution_count": 39,
   "metadata": {},
   "outputs": [
    {
     "data": {
      "text/plain": [
       "<QuerySet [<Reactions: Reactions object (2)>, <Reactions: Reactions object (3)>, <Reactions: Reactions object (7)>, <Reactions: Reactions object (8)>]>"
      ]
     },
     "execution_count": 39,
     "metadata": {},
     "output_type": "execute_result"
    }
   ],
   "source": [
    "Reactions.objects.all()"
   ]
  },
  {
   "cell_type": "code",
   "execution_count": 40,
   "metadata": {},
   "outputs": [],
   "source": [
    "def add_comment(post_id,user_id,comment_text):\n",
    "    try:\n",
    "        u=User.objects.get(id=user_id)\n",
    "    except User.DoesNotExist:\n",
    "        print(\"Invalid User\")\n",
    "        return\n",
    "    try:\n",
    "        p=Post.objects.get(id=post_id)\n",
    "    except Post.DoesNotExist:\n",
    "        print(\"Invalid Post\")\n",
    "        return\n",
    "    c=Comment.objects.create(user=u,post=p,comment_at=str(datetime.now()),comment_content=comment_text)\n",
    "    return c.id\n",
    "    "
   ]
  },
  {
   "cell_type": "code",
   "execution_count": 41,
   "metadata": {},
   "outputs": [
    {
     "name": "stdout",
     "output_type": "stream",
     "text": [
      "Invalid Post\n"
     ]
    }
   ],
   "source": [
    "add_comment(2,2,\"Cool Stuff\")"
   ]
  },
  {
   "cell_type": "code",
   "execution_count": 42,
   "metadata": {},
   "outputs": [],
   "source": [
    "c=Comment.objects.all()"
   ]
  },
  {
   "cell_type": "code",
   "execution_count": 43,
   "metadata": {},
   "outputs": [
    {
     "ename": "AttributeError",
     "evalue": "'Comment' object has no attribute 'po'",
     "output_type": "error",
     "traceback": [
      "\u001b[0;31m---------------------------------------------------------------------------\u001b[0m",
      "\u001b[0;31mAttributeError\u001b[0m                            Traceback (most recent call last)",
      "\u001b[0;32m<ipython-input-43-081b84b3f67c>\u001b[0m in \u001b[0;36m<module>\u001b[0;34m\u001b[0m\n\u001b[1;32m      1\u001b[0m \u001b[0;32mfor\u001b[0m \u001b[0mi\u001b[0m \u001b[0;32min\u001b[0m \u001b[0mc\u001b[0m\u001b[0;34m:\u001b[0m\u001b[0;34m\u001b[0m\u001b[0;34m\u001b[0m\u001b[0m\n\u001b[0;32m----> 2\u001b[0;31m     \u001b[0mprint\u001b[0m\u001b[0;34m(\u001b[0m\u001b[0mi\u001b[0m\u001b[0;34m.\u001b[0m\u001b[0mpo\u001b[0m\u001b[0;34m)\u001b[0m\u001b[0;34m\u001b[0m\u001b[0;34m\u001b[0m\u001b[0m\n\u001b[0m",
      "\u001b[0;31mAttributeError\u001b[0m: 'Comment' object has no attribute 'po'"
     ]
    }
   ],
   "source": [
    "for i in c:\n",
    "    print(i.po)"
   ]
  },
  {
   "cell_type": "code",
   "execution_count": 44,
   "metadata": {},
   "outputs": [
    {
     "data": {
      "text/plain": [
       "<QuerySet [<Comment: Comment object (1)>, <Comment: Comment object (2)>, <Comment: Comment object (3)>]>"
      ]
     },
     "execution_count": 44,
     "metadata": {},
     "output_type": "execute_result"
    }
   ],
   "source": [
    "Comment.objects.all()"
   ]
  },
  {
   "cell_type": "code",
   "execution_count": 45,
   "metadata": {},
   "outputs": [
    {
     "data": {
      "text/plain": [
       "<QuerySet [<Reactions: Reactions object (2)>, <Reactions: Reactions object (3)>, <Reactions: Reactions object (7)>, <Reactions: Reactions object (8)>]>"
      ]
     },
     "execution_count": 45,
     "metadata": {},
     "output_type": "execute_result"
    }
   ],
   "source": [
    "Reactions.objects.all()"
   ]
  },
  {
   "cell_type": "code",
   "execution_count": 46,
   "metadata": {},
   "outputs": [
    {
     "ename": "DoesNotExist",
     "evalue": "Comment matching query does not exist.",
     "output_type": "error",
     "traceback": [
      "\u001b[0;31m---------------------------------------------------------------------------\u001b[0m",
      "\u001b[0;31mDoesNotExist\u001b[0m                              Traceback (most recent call last)",
      "\u001b[0;32m<ipython-input-46-c1dd183c80eb>\u001b[0m in \u001b[0;36m<module>\u001b[0;34m\u001b[0m\n\u001b[0;32m----> 1\u001b[0;31m \u001b[0mReactions\u001b[0m\u001b[0;34m.\u001b[0m\u001b[0mobjects\u001b[0m\u001b[0;34m.\u001b[0m\u001b[0mcreate\u001b[0m\u001b[0;34m(\u001b[0m\u001b[0mreact_type\u001b[0m\u001b[0;34m=\u001b[0m\u001b[0;34m\"LIKE\"\u001b[0m\u001b[0;34m,\u001b[0m\u001b[0muser\u001b[0m\u001b[0;34m=\u001b[0m\u001b[0mUser\u001b[0m\u001b[0;34m.\u001b[0m\u001b[0mobjects\u001b[0m\u001b[0;34m.\u001b[0m\u001b[0mget\u001b[0m\u001b[0;34m(\u001b[0m\u001b[0mid\u001b[0m\u001b[0;34m=\u001b[0m\u001b[0;36m2\u001b[0m\u001b[0;34m)\u001b[0m\u001b[0;34m,\u001b[0m\u001b[0mcomment\u001b[0m\u001b[0;34m=\u001b[0m\u001b[0mComment\u001b[0m\u001b[0;34m.\u001b[0m\u001b[0mobjects\u001b[0m\u001b[0;34m.\u001b[0m\u001b[0mget\u001b[0m\u001b[0;34m(\u001b[0m\u001b[0mid\u001b[0m\u001b[0;34m=\u001b[0m\u001b[0;36m5\u001b[0m\u001b[0;34m)\u001b[0m\u001b[0;34m)\u001b[0m\u001b[0;34m\u001b[0m\u001b[0;34m\u001b[0m\u001b[0m\n\u001b[0m",
      "\u001b[0;32m~/PycharmProjects/djangotutorial/.venv/lib/python3.7/site-packages/django/db/models/manager.py\u001b[0m in \u001b[0;36mmanager_method\u001b[0;34m(self, *args, **kwargs)\u001b[0m\n\u001b[1;32m     80\u001b[0m         \u001b[0;32mdef\u001b[0m \u001b[0mcreate_method\u001b[0m\u001b[0;34m(\u001b[0m\u001b[0mname\u001b[0m\u001b[0;34m,\u001b[0m \u001b[0mmethod\u001b[0m\u001b[0;34m)\u001b[0m\u001b[0;34m:\u001b[0m\u001b[0;34m\u001b[0m\u001b[0;34m\u001b[0m\u001b[0m\n\u001b[1;32m     81\u001b[0m             \u001b[0;32mdef\u001b[0m \u001b[0mmanager_method\u001b[0m\u001b[0;34m(\u001b[0m\u001b[0mself\u001b[0m\u001b[0;34m,\u001b[0m \u001b[0;34m*\u001b[0m\u001b[0margs\u001b[0m\u001b[0;34m,\u001b[0m \u001b[0;34m**\u001b[0m\u001b[0mkwargs\u001b[0m\u001b[0;34m)\u001b[0m\u001b[0;34m:\u001b[0m\u001b[0;34m\u001b[0m\u001b[0;34m\u001b[0m\u001b[0m\n\u001b[0;32m---> 82\u001b[0;31m                 \u001b[0;32mreturn\u001b[0m \u001b[0mgetattr\u001b[0m\u001b[0;34m(\u001b[0m\u001b[0mself\u001b[0m\u001b[0;34m.\u001b[0m\u001b[0mget_queryset\u001b[0m\u001b[0;34m(\u001b[0m\u001b[0;34m)\u001b[0m\u001b[0;34m,\u001b[0m \u001b[0mname\u001b[0m\u001b[0;34m)\u001b[0m\u001b[0;34m(\u001b[0m\u001b[0;34m*\u001b[0m\u001b[0margs\u001b[0m\u001b[0;34m,\u001b[0m \u001b[0;34m**\u001b[0m\u001b[0mkwargs\u001b[0m\u001b[0;34m)\u001b[0m\u001b[0;34m\u001b[0m\u001b[0;34m\u001b[0m\u001b[0m\n\u001b[0m\u001b[1;32m     83\u001b[0m             \u001b[0mmanager_method\u001b[0m\u001b[0;34m.\u001b[0m\u001b[0m__name__\u001b[0m \u001b[0;34m=\u001b[0m \u001b[0mmethod\u001b[0m\u001b[0;34m.\u001b[0m\u001b[0m__name__\u001b[0m\u001b[0;34m\u001b[0m\u001b[0;34m\u001b[0m\u001b[0m\n\u001b[1;32m     84\u001b[0m             \u001b[0mmanager_method\u001b[0m\u001b[0;34m.\u001b[0m\u001b[0m__doc__\u001b[0m \u001b[0;34m=\u001b[0m \u001b[0mmethod\u001b[0m\u001b[0;34m.\u001b[0m\u001b[0m__doc__\u001b[0m\u001b[0;34m\u001b[0m\u001b[0;34m\u001b[0m\u001b[0m\n",
      "\u001b[0;32m~/PycharmProjects/djangotutorial/.venv/lib/python3.7/site-packages/django/db/models/query.py\u001b[0m in \u001b[0;36mget\u001b[0;34m(self, *args, **kwargs)\u001b[0m\n\u001b[1;32m    406\u001b[0m             raise self.model.DoesNotExist(\n\u001b[1;32m    407\u001b[0m                 \u001b[0;34m\"%s matching query does not exist.\"\u001b[0m \u001b[0;34m%\u001b[0m\u001b[0;34m\u001b[0m\u001b[0;34m\u001b[0m\u001b[0m\n\u001b[0;32m--> 408\u001b[0;31m                 \u001b[0mself\u001b[0m\u001b[0;34m.\u001b[0m\u001b[0mmodel\u001b[0m\u001b[0;34m.\u001b[0m\u001b[0m_meta\u001b[0m\u001b[0;34m.\u001b[0m\u001b[0mobject_name\u001b[0m\u001b[0;34m\u001b[0m\u001b[0;34m\u001b[0m\u001b[0m\n\u001b[0m\u001b[1;32m    409\u001b[0m             )\n\u001b[1;32m    410\u001b[0m         raise self.model.MultipleObjectsReturned(\n",
      "\u001b[0;31mDoesNotExist\u001b[0m: Comment matching query does not exist."
     ]
    }
   ],
   "source": [
    "Reactions.objects.create(react_type=\"LIKE\",user=User.objects.get(id=2),comment=Comment.objects.get(id=5))"
   ]
  },
  {
   "cell_type": "code",
   "execution_count": 47,
   "metadata": {},
   "outputs": [],
   "source": [
    "post=Post.objects.get(id=1)"
   ]
  },
  {
   "cell_type": "code",
   "execution_count": 48,
   "metadata": {},
   "outputs": [],
   "source": [
    "c=post.comments.all()"
   ]
  },
  {
   "cell_type": "code",
   "execution_count": 49,
   "metadata": {},
   "outputs": [
    {
     "data": {
      "text/plain": [
       "3"
      ]
     },
     "execution_count": 49,
     "metadata": {},
     "output_type": "execute_result"
    }
   ],
   "source": [
    "len(c)"
   ]
  },
  {
   "cell_type": "code",
   "execution_count": 50,
   "metadata": {},
   "outputs": [],
   "source": [
    "def get_post(post_id):\n",
    "    try:\n",
    "        post=Post.objects.get(id=post_id)\n",
    "    except User.DoesNotExist:\n",
    "        print(\"Post Not Found\")\n",
    "        return\n",
    "\n",
    "    post_dictionary = {}\n",
    "    post_dictionary['post_id'] = post_id\n",
    "    post_dictionary['posted_by'] = {\n",
    "        \"name\": post.user.username,\n",
    "        \"user_id\":post.user.id,\n",
    "        \"profile_pic_url\":post.user.pic_url\n",
    "    }\n",
    "    post_dictionary['posted_at'] = str(post.post_datetime)[:-6]\n",
    "    post_dictionary['post_content'] = post.post_content\n",
    "    \n",
    "    post_reactions = []\n",
    "    for reaction_obj in post.reaction.all():\n",
    "        post_reactions.append(reaction_obj.react_type)\n",
    "    post_dictionary['reactions']={\n",
    "        \"count\":len(post_reactions),\n",
    "        \"type\":list(set(post_reactions))\n",
    "    }\n",
    "    \n",
    "    comment_queryset=post.comments.all()\n",
    "    list_of_comments_dictionary = []\n",
    "    for comment in comment_queryset:\n",
    "        comment_dictionary = {}\n",
    "        comment_dictionary[\"comment_id\"]=comment.id\n",
    "        comment_dictionary[\"commenter\"]= {\n",
    "            \"name\":comment.user.username,\n",
    "            \"user_id\":comment.user.id,\n",
    "            \"profile_pic_url\":comment.user.pic_url\n",
    "        }\n",
    "        comment_dictionary[\"commented_at\"]=str(comment.comment_at)\n",
    "        comment_dictionary[\"comment_content\"]=comment.comment_content\n",
    "        comments_reactions = []\n",
    "        for reaction_obj in comment.reaction.all():\n",
    "            comments_reactions.append(reaction_obj.react_type)\n",
    "        comment_dictionary['commentreactions']={\n",
    "            \"count\":len(comments_reactions),\n",
    "            \"type\":list(set(comments_reactions))\n",
    "        }\n",
    "        list_of_comments_dictionary.append(comment_dictionary)\n",
    "    print(post_dictionary)\n",
    "    print('\\n\\n')\n",
    "    print(list_of_comments_dictionary)\n",
    "    # \n",
    "    post_dictionary[\"comments\"]=list_of_comments_dictionary\n",
    "    post_dictionary[\"comments_count\"]=len(list_of_comments_dictionary)\n",
    "    return post_dictionary\n",
    "    \n",
    "    \n",
    "        "
   ]
  },
  {
   "cell_type": "code",
   "execution_count": 51,
   "metadata": {},
   "outputs": [
    {
     "name": "stdout",
     "output_type": "stream",
     "text": [
      "{'post_id': 1, 'posted_by': {'name': 'narendra', 'user_id': 1, 'profile_pic_url': 'https://dummy.url.com/pic.png'}, 'posted_at': '2019-07-05 04:27:18.690928', 'post_content': 'Tech News', 'reactions': {'count': 2, 'type': ['HAHA', 'LIKE']}}\n",
      "\n",
      "\n",
      "\n",
      "[{'comment_id': 1, 'commenter': {'name': 'narendra', 'user_id': 1, 'profile_pic_url': 'https://dummy.url.com/pic.png'}, 'commented_at': '2019-07-05 04:47:00.566545+00:00', 'comment_content': 'This post is awesome', 'commentreactions': {'count': 0, 'type': []}}, {'comment_id': 2, 'commenter': {'name': 'mohan', 'user_id': 2, 'profile_pic_url': 'https://dummy.url.com/pic1.png'}, 'commented_at': '2019-07-05 05:01:23.567539+00:00', 'comment_content': 'good one', 'commentreactions': {'count': 1, 'type': ['WOW']}}, {'comment_id': 3, 'commenter': {'name': 'vamsi', 'user_id': 3, 'profile_pic_url': 'https://dummy.url.com/pic2.png'}, 'commented_at': '2019-07-05 05:01:42.423002+00:00', 'comment_content': 'Technically sound', 'commentreactions': {'count': 1, 'type': ['LOVE']}}]\n"
     ]
    },
    {
     "data": {
      "text/plain": [
       "{'post_id': 1,\n",
       " 'posted_by': {'name': 'narendra',\n",
       "  'user_id': 1,\n",
       "  'profile_pic_url': 'https://dummy.url.com/pic.png'},\n",
       " 'posted_at': '2019-07-05 04:27:18.690928',\n",
       " 'post_content': 'Tech News',\n",
       " 'reactions': {'count': 2, 'type': ['HAHA', 'LIKE']},\n",
       " 'comments': [{'comment_id': 1,\n",
       "   'commenter': {'name': 'narendra',\n",
       "    'user_id': 1,\n",
       "    'profile_pic_url': 'https://dummy.url.com/pic.png'},\n",
       "   'commented_at': '2019-07-05 04:47:00.566545+00:00',\n",
       "   'comment_content': 'This post is awesome',\n",
       "   'commentreactions': {'count': 0, 'type': []}},\n",
       "  {'comment_id': 2,\n",
       "   'commenter': {'name': 'mohan',\n",
       "    'user_id': 2,\n",
       "    'profile_pic_url': 'https://dummy.url.com/pic1.png'},\n",
       "   'commented_at': '2019-07-05 05:01:23.567539+00:00',\n",
       "   'comment_content': 'good one',\n",
       "   'commentreactions': {'count': 1, 'type': ['WOW']}},\n",
       "  {'comment_id': 3,\n",
       "   'commenter': {'name': 'vamsi',\n",
       "    'user_id': 3,\n",
       "    'profile_pic_url': 'https://dummy.url.com/pic2.png'},\n",
       "   'commented_at': '2019-07-05 05:01:42.423002+00:00',\n",
       "   'comment_content': 'Technically sound',\n",
       "   'commentreactions': {'count': 1, 'type': ['LOVE']}}],\n",
       " 'comments_count': 3}"
      ]
     },
     "execution_count": 51,
     "metadata": {},
     "output_type": "execute_result"
    }
   ],
   "source": [
    "get_post(1)"
   ]
  },
  {
   "cell_type": "code",
   "execution_count": 52,
   "metadata": {},
   "outputs": [],
   "source": [
    "def react_to_comment(user_id,comment_id,reaction_type):\n",
    "    try:\n",
    "        user=User.objects.get(id=user_id)\n",
    "    except User.DoesNotExist:\n",
    "        print(\"Invalid User\")\n",
    "        return\n",
    "    try:\n",
    "        comment=Comment.objects.get(id=comment_id)\n",
    "    except Comment.DoesNotExist:\n",
    "        print(\"Invalid Comment\")\n",
    "        return\n",
    "    if(reaction_type not in [\"HAHA\",\"LIKE\",\"SAD\",\"WOW\",\"LOVE\"]):\n",
    "        print(\"Reaction doesnot exist\")\n",
    "        return \n",
    "        \n",
    "    try:\n",
    "        reaction=Reactions.objects.get(user_id=user_id,comment_id=comment_id)\n",
    "    except Reactions.DoesNotExist:\n",
    "        print(\"No Reaction Found\")\n",
    "        r=Reactions.objects.create(react_type=reaction_type,user=user,comment=comment)\n",
    "        return\n",
    "    if(reaction_type==reaction.react_type):\n",
    "        reaction.delete()\n",
    "    else:\n",
    "        reaction.react_type=reaction_type\n",
    "        reaction.save()\n",
    "        "
   ]
  },
  {
   "cell_type": "code",
   "execution_count": 53,
   "metadata": {},
   "outputs": [],
   "source": [
    "c=Comment.objects.all()"
   ]
  },
  {
   "cell_type": "code",
   "execution_count": 54,
   "metadata": {},
   "outputs": [
    {
     "data": {
      "text/plain": [
       "<QuerySet [<Comment: Comment object (1)>, <Comment: Comment object (2)>, <Comment: Comment object (3)>]>"
      ]
     },
     "execution_count": 54,
     "metadata": {},
     "output_type": "execute_result"
    }
   ],
   "source": [
    "c"
   ]
  },
  {
   "cell_type": "code",
   "execution_count": 55,
   "metadata": {},
   "outputs": [
    {
     "name": "stdout",
     "output_type": "stream",
     "text": [
      "WOW\n",
      "LOVE\n"
     ]
    }
   ],
   "source": [
    "for i in c:\n",
    "    r=i.reaction.all()\n",
    "    for j in r:\n",
    "        print(j.react_type)"
   ]
  },
  {
   "cell_type": "code",
   "execution_count": 56,
   "metadata": {},
   "outputs": [
    {
     "name": "stdout",
     "output_type": "stream",
     "text": [
      "No Reaction Found\n"
     ]
    }
   ],
   "source": [
    "react_to_comment(1,1,\"WOW\")"
   ]
  },
  {
   "cell_type": "markdown",
   "metadata": {},
   "source": [
    "# FBv3"
   ]
  },
  {
   "cell_type": "code",
   "execution_count": 57,
   "metadata": {},
   "outputs": [
    {
     "data": {
      "text/plain": [
       "<QuerySet [<User: User object (1)>, <User: User object (2)>, <User: User object (3)>, <User: User object (4)>]>"
      ]
     },
     "execution_count": 57,
     "metadata": {},
     "output_type": "execute_result"
    }
   ],
   "source": [
    "User.objects.all()"
   ]
  },
  {
   "cell_type": "code",
   "execution_count": 58,
   "metadata": {},
   "outputs": [
    {
     "data": {
      "text/plain": [
       "<QuerySet [<Post: Post object (1)>, <Post: Post object (3)>]>"
      ]
     },
     "execution_count": 58,
     "metadata": {},
     "output_type": "execute_result"
    }
   ],
   "source": [
    "Post.objects.all()"
   ]
  },
  {
   "cell_type": "code",
   "execution_count": 59,
   "metadata": {},
   "outputs": [
    {
     "data": {
      "text/plain": [
       "<QuerySet [<Comment: Comment object (1)>, <Comment: Comment object (2)>, <Comment: Comment object (3)>]>"
      ]
     },
     "execution_count": 59,
     "metadata": {},
     "output_type": "execute_result"
    }
   ],
   "source": [
    "Comment.objects.all()"
   ]
  },
  {
   "cell_type": "code",
   "execution_count": 69,
   "metadata": {},
   "outputs": [],
   "source": [
    "def reply_to_comment(comment_id,user_id,reply_text):\n",
    "    try:\n",
    "        user=User.objects.get(id=user_id)\n",
    "    except User.DoesNotExist:\n",
    "        print(\"Invalid User\")\n",
    "        return\n",
    "    try:\n",
    "        comment=Comment.objects.get(id=comment_id)\n",
    "    except Comment.DoesNotExist:\n",
    "        print(\"Invalid Comment\")\n",
    "        return\n",
    "    reply=Reply.objects.create(comment=comment,user=user,reply_at=str(datetime.now()),reply_content=reply_text)\n",
    "    return reply_to_comment"
   ]
  },
  {
   "cell_type": "code",
   "execution_count": 65,
   "metadata": {},
   "outputs": [
    {
     "name": "stderr",
     "output_type": "stream",
     "text": [
      "/home/ib_admin/PycharmProjects/djangotutorial/.venv/lib/python3.7/site-packages/django/db/models/fields/__init__.py:1421: RuntimeWarning: DateTimeField Reply.reply_at received a naive datetime (2019-07-05 15:37:55.668121) while time zone support is active.\n",
      "  RuntimeWarning)\n"
     ]
    }
   ],
   "source": [
    "reply_to_comment(1,1,\"What man\")"
   ]
  },
  {
   "cell_type": "code",
   "execution_count": 66,
   "metadata": {},
   "outputs": [
    {
     "data": {
      "text/plain": [
       "<QuerySet [<Reply: Reply object (1)>]>"
      ]
     },
     "execution_count": 66,
     "metadata": {},
     "output_type": "execute_result"
    }
   ],
   "source": [
    "Reply.objects.all()"
   ]
  },
  {
   "cell_type": "code",
   "execution_count": 68,
   "metadata": {},
   "outputs": [
    {
     "name": "stdout",
     "output_type": "stream",
     "text": [
      "What man 1\n"
     ]
    }
   ],
   "source": [
    "for i in Reply.objects.all():\n",
    "    print(i.reply_content,i.comment.id)"
   ]
  },
  {
   "cell_type": "code",
   "execution_count": 91,
   "metadata": {},
   "outputs": [],
   "source": [
    "def get_post(post_id):\n",
    "    try:\n",
    "        post=Post.objects.get(id=post_id)\n",
    "    except User.DoesNotExist:\n",
    "        print(\"Post Not Found\")\n",
    "        return\n",
    "\n",
    "    post_dictionary = {}\n",
    "    post_dictionary['post_id'] = post_id\n",
    "    post_dictionary['posted_by'] = {\n",
    "        \"name\": post.user.username,\n",
    "        \"user_id\":post.user.id,\n",
    "        \"profile_pic_url\":post.user.pic_url\n",
    "    }\n",
    "    post_dictionary['posted_at'] = str(post.post_datetime)[:-6]\n",
    "    post_dictionary['post_content'] = post.post_content\n",
    "    \n",
    "    post_reactions = []\n",
    "    for reaction_obj in post.reaction.all():\n",
    "        post_reactions.append(reaction_obj.react_type)\n",
    "    post_dictionary['reactions']={\n",
    "        \"count\":len(post_reactions),\n",
    "        \"type\":list(set(post_reactions))\n",
    "    }\n",
    "    \n",
    "    comment_queryset=post.comments.all()\n",
    "    list_of_comments_dictionary = []\n",
    "    for comment in comment_queryset:\n",
    "        comment_dictionary = {}\n",
    "        comment_dictionary[\"comment_id\"]=comment.id\n",
    "        comment_dictionary[\"commenter\"]= {\n",
    "            \"name\":comment.user.username,\n",
    "            \"user_id\":comment.user.id,\n",
    "            \"profile_pic_url\":comment.user.pic_url\n",
    "        }\n",
    "        comment_dictionary[\"commented_at\"]=str(comment.comment_at)\n",
    "        comment_dictionary[\"comment_content\"]=comment.comment_content\n",
    "        comments_reactions = []\n",
    "        for reaction_obj in comment.reaction.all():\n",
    "            comments_reactions.append(reaction_obj.react_type)\n",
    "        comment_dictionary['commentreactions']={\n",
    "            \"count\":len(comments_reactions),\n",
    "            \"type\":list(set(comments_reactions))\n",
    "        }\n",
    "        list_of_reply_dictionary=[]\n",
    "        reply_query_set=comment.reply.all()\n",
    "#         print(reply_query_set)\n",
    "        for reply in reply_query_set:\n",
    "#             print(reply.reply_content)\n",
    "#             def()\n",
    "            reply_dictionary={}\n",
    "            reply_dictionary[\"comment_id\"]=reply.id\n",
    "            reply_dictionary[\"commenter\"]={\n",
    "                \"name\":reply.user.username,\n",
    "                \"user_id\":reply.user.id,\n",
    "                \"profile_pic_url\":reply.user.pic_url\n",
    "            }\n",
    "            reply_dictionary[\"commented_at\"]=str(reply.reply_at)\n",
    "            reply_dictionary[\"comment_content\"]=reply.reply_content\n",
    "            reply_reactions = []\n",
    "            for reaction_obj in reply.reaction.all():\n",
    "                reply_reactions.append(reaction_obj.react_type)\n",
    "            reply_dictionary['reactions']={\n",
    "        \"count\":len(reply_reactions),\n",
    "        \"type\":list(set(reply_reactions))\n",
    "            }\n",
    "            print(reply_dictionary)\n",
    "            list_of_reply_dictionary.append(reply_dictionary)\n",
    "\n",
    "        comment_dictionary[\"replies_count\"]=len(list_of_reply_dictionary)\n",
    "        comment_dictionary[\"replies\"]=list_of_reply_dictionary\n",
    "        list_of_comments_dictionary.append(comment_dictionary)\n",
    "#     print(post_dictionary)\n",
    "#     print('\\n\\n')\n",
    "#     print(list_of_comments_dictionary)\n",
    "    # \n",
    "    post_dictionary[\"comments\"]=list_of_comments_dictionary\n",
    "    post_dictionary[\"comments_count\"]=len(list_of_comments_dictionary)\n",
    "    return post_dictionary\n",
    "    \n",
    "    \n",
    "        "
   ]
  },
  {
   "cell_type": "code",
   "execution_count": 92,
   "metadata": {},
   "outputs": [
    {
     "name": "stdout",
     "output_type": "stream",
     "text": [
      "{'comment_id': 1, 'commenter': {'name': 'narendra', 'user_id': 1, 'profile_pic_url': 'https://dummy.url.com/pic.png'}, 'commented_at': '2019-07-05 10:07:55.668121+00:00', 'comment_content': 'What man', 'reactions': {'count': 0, 'type': []}}\n"
     ]
    },
    {
     "data": {
      "text/plain": [
       "{'post_id': 1,\n",
       " 'posted_by': {'name': 'narendra',\n",
       "  'user_id': 1,\n",
       "  'profile_pic_url': 'https://dummy.url.com/pic.png'},\n",
       " 'posted_at': '2019-07-05 04:27:18.690928',\n",
       " 'post_content': 'Tech News',\n",
       " 'reactions': {'count': 2, 'type': ['HAHA', 'LIKE']},\n",
       " 'comments': [{'comment_id': 1,\n",
       "   'commenter': {'name': 'narendra',\n",
       "    'user_id': 1,\n",
       "    'profile_pic_url': 'https://dummy.url.com/pic.png'},\n",
       "   'commented_at': '2019-07-05 04:47:00.566545+00:00',\n",
       "   'comment_content': 'This post is awesome',\n",
       "   'commentreactions': {'count': 1, 'type': ['WOW']},\n",
       "   'replies_count': 1,\n",
       "   'replies': [{'comment_id': 1,\n",
       "     'commenter': {'name': 'narendra',\n",
       "      'user_id': 1,\n",
       "      'profile_pic_url': 'https://dummy.url.com/pic.png'},\n",
       "     'commented_at': '2019-07-05 10:07:55.668121+00:00',\n",
       "     'comment_content': 'What man',\n",
       "     'reactions': {'count': 0, 'type': []}}]},\n",
       "  {'comment_id': 2,\n",
       "   'commenter': {'name': 'mohan',\n",
       "    'user_id': 2,\n",
       "    'profile_pic_url': 'https://dummy.url.com/pic1.png'},\n",
       "   'commented_at': '2019-07-05 05:01:23.567539+00:00',\n",
       "   'comment_content': 'good one',\n",
       "   'commentreactions': {'count': 1, 'type': ['WOW']},\n",
       "   'replies_count': 0,\n",
       "   'replies': []},\n",
       "  {'comment_id': 3,\n",
       "   'commenter': {'name': 'vamsi',\n",
       "    'user_id': 3,\n",
       "    'profile_pic_url': 'https://dummy.url.com/pic2.png'},\n",
       "   'commented_at': '2019-07-05 05:01:42.423002+00:00',\n",
       "   'comment_content': 'Technically sound',\n",
       "   'commentreactions': {'count': 1, 'type': ['LOVE']},\n",
       "   'replies_count': 0,\n",
       "   'replies': []}],\n",
       " 'comments_count': 3}"
      ]
     },
     "execution_count": 92,
     "metadata": {},
     "output_type": "execute_result"
    }
   ],
   "source": [
    "get_post(1)"
   ]
  },
  {
   "cell_type": "code",
   "execution_count": 97,
   "metadata": {},
   "outputs": [],
   "source": [
    "def get_replies_for_comment(comment_id):\n",
    "    try:\n",
    "        comment=Comment.objects.get(id=comment_id)\n",
    "    except Comment.DoesNotExist:\n",
    "        print(\"Invalid Comment\")\n",
    "        return\n",
    "    list_of_reply_dictionary=[]\n",
    "    reply_query_set=comment.reply.all()\n",
    "#         print(reply_query_set)\n",
    "    for reply in reply_query_set:\n",
    "#             print(reply.reply_content)\n",
    "        reply_dictionary={}\n",
    "        reply_dictionary[\"comment_id\"]=reply.id\n",
    "        reply_dictionary[\"commenter\"]={\n",
    "                \"name\":reply.user.username,\n",
    "                \"user_id\":reply.user.id,\n",
    "                \"profile_pic_url\":reply.user.pic_url\n",
    "            }\n",
    "        reply_dictionary[\"commented_at\"]=str(reply.reply_at)\n",
    "        reply_dictionary[\"comment_content\"]=reply.reply_content\n",
    "        list_of_reply_dictionary.append(reply_dictionary)\n",
    "    return list_of_reply_dictionary\n",
    "    "
   ]
  },
  {
   "cell_type": "code",
   "execution_count": 98,
   "metadata": {},
   "outputs": [
    {
     "data": {
      "text/plain": [
       "[{'comment_id': 1,\n",
       "  'commenter': {'name': 'narendra',\n",
       "   'user_id': 1,\n",
       "   'profile_pic_url': 'https://dummy.url.com/pic.png'},\n",
       "  'commented_at': '2019-07-05 10:07:55.668121+00:00',\n",
       "  'comment_content': 'What man'}]"
      ]
     },
     "execution_count": 98,
     "metadata": {},
     "output_type": "execute_result"
    }
   ],
   "source": [
    "get_replies_for_comment(1)"
   ]
  },
  {
   "cell_type": "code",
   "execution_count": 99,
   "metadata": {},
   "outputs": [],
   "source": [
    "format = '2019-05-21 20:22:46.810366'\n",
    "reply = Reply.objects.first().reply_at"
   ]
  },
  {
   "cell_type": "code",
   "execution_count": 100,
   "metadata": {},
   "outputs": [
    {
     "data": {
      "text/plain": [
       "datetime.datetime(2019, 7, 5, 10, 7, 55, 668121, tzinfo=<UTC>)"
      ]
     },
     "execution_count": 100,
     "metadata": {},
     "output_type": "execute_result"
    }
   ],
   "source": [
    "reply"
   ]
  },
  {
   "cell_type": "code",
   "execution_count": 102,
   "metadata": {},
   "outputs": [
    {
     "data": {
      "text/plain": [
       "'2019-07-05 10:07:55.668121'"
      ]
     },
     "execution_count": 102,
     "metadata": {},
     "output_type": "execute_result"
    }
   ],
   "source": [
    "reply.strftime(\"%Y-%m-%d %H:%M:%S.%f\")"
   ]
  },
  {
   "cell_type": "code",
   "execution_count": null,
   "metadata": {},
   "outputs": [],
   "source": []
  }
 ],
 "metadata": {
  "kernelspec": {
   "display_name": "Python 3",
   "language": "python",
   "name": "python3"
  },
  "language_info": {
   "codemirror_mode": {
    "name": "ipython",
    "version": 3
   },
   "file_extension": ".py",
   "mimetype": "text/x-python",
   "name": "python",
   "nbconvert_exporter": "python",
   "pygments_lexer": "ipython3",
   "version": "3.7.3"
  }
 },
 "nbformat": 4,
 "nbformat_minor": 2
}
