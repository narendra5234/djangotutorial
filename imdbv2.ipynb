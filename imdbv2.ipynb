{
 "cells": [
  {
   "cell_type": "code",
   "execution_count": 1,
   "metadata": {},
   "outputs": [],
   "source": [
    "import django\n",
    "import os\n",
    "os.environ['DJANGO_SETTINGS_MODULE'] = 'mysite.settings'\n",
    "django.setup()"
   ]
  },
  {
   "cell_type": "code",
   "execution_count": 2,
   "metadata": {},
   "outputs": [],
   "source": [
    "from imdb.models import *\n",
    "from datetime import date\n",
    "from imdb.model_methodsv2 import *\n",
    "from django.db.models import *\n",
    "from django.db import connection"
   ]
  },
  {
   "cell_type": "code",
   "execution_count": null,
   "metadata": {},
   "outputs": [],
   "source": [
    "create_actor()"
   ]
  },
  {
   "cell_type": "code",
   "execution_count": null,
   "metadata": {},
   "outputs": [],
   "source": [
    "create_movie()"
   ]
  },
  {
   "cell_type": "code",
   "execution_count": null,
   "metadata": {},
   "outputs": [],
   "source": [
    "create_rating()"
   ]
  },
  {
   "cell_type": "code",
   "execution_count": null,
   "metadata": {},
   "outputs": [],
   "source": [
    "create_movie_cast()"
   ]
  },
  {
   "cell_type": "code",
   "execution_count": null,
   "metadata": {},
   "outputs": [],
   "source": [
    "max_actor_movies()"
   ]
  },
  {
   "cell_type": "code",
   "execution_count": null,
   "metadata": {},
   "outputs": [],
   "source": [
    "get_remuneration_stats(1)"
   ]
  },
  {
   "cell_type": "code",
   "execution_count": null,
   "metadata": {},
   "outputs": [],
   "source": [
    "get_min_age_of_cast_in_movie()"
   ]
  },
  {
   "cell_type": "code",
   "execution_count": null,
   "metadata": {},
   "outputs": [],
   "source": [
    "get_movies_that_doesnot_have_heroine()"
   ]
  },
  {
   "cell_type": "code",
   "execution_count": null,
   "metadata": {},
   "outputs": [],
   "source": [
    "get_movies_more_than_ten_female()"
   ]
  },
  {
   "cell_type": "code",
   "execution_count": null,
   "metadata": {},
   "outputs": [],
   "source": [
    "get_movie_contains_title()"
   ]
  },
  {
   "cell_type": "code",
   "execution_count": null,
   "metadata": {},
   "outputs": [],
   "source": [
    "diff_between_male_and_female()"
   ]
  },
  {
   "cell_type": "code",
   "execution_count": null,
   "metadata": {},
   "outputs": [],
   "source": [
    "get_movie_contains_title()"
   ]
  },
  {
   "cell_type": "code",
   "execution_count": null,
   "metadata": {},
   "outputs": [],
   "source": [
    "avg_remuneration_by_actors()"
   ]
  },
  {
   "cell_type": "code",
   "execution_count": null,
   "metadata": {},
   "outputs": [],
   "source": [
    "diff_between_male_and_female()"
   ]
  },
  {
   "cell_type": "code",
   "execution_count": null,
   "metadata": {},
   "outputs": [],
   "source": [
    "no_of_actors_same_month()"
   ]
  },
  {
   "cell_type": "code",
   "execution_count": null,
   "metadata": {},
   "outputs": [],
   "source": [
    "no_of_actors_same_year()"
   ]
  },
  {
   "cell_type": "code",
   "execution_count": null,
   "metadata": {},
   "outputs": [],
   "source": [
    "no_of_actors_same_name()"
   ]
  },
  {
   "cell_type": "markdown",
   "metadata": {},
   "source": [
    "# DB access optimization"
   ]
  },
  {
   "cell_type": "markdown",
   "metadata": {},
   "source": [
    "# select_related"
   ]
  },
  {
   "cell_type": "code",
   "execution_count": null,
   "metadata": {},
   "outputs": [],
   "source": [
    "len(connection.queries)"
   ]
  },
  {
   "cell_type": "code",
   "execution_count": null,
   "metadata": {},
   "outputs": [],
   "source": [
    "mr=MovieRating.objects.get(id=21)\n",
    "m=mr.movie#takes 2 hits"
   ]
  },
  {
   "cell_type": "code",
   "execution_count": null,
   "metadata": {},
   "outputs": [],
   "source": [
    "len(connection.queries)"
   ]
  },
  {
   "cell_type": "code",
   "execution_count": null,
   "metadata": {},
   "outputs": [],
   "source": [
    "mr1=MovieRating.objects.select_related('movie').get(id=21)#takes 1 hit"
   ]
  },
  {
   "cell_type": "code",
   "execution_count": null,
   "metadata": {},
   "outputs": [],
   "source": []
  },
  {
   "cell_type": "code",
   "execution_count": null,
   "metadata": {},
   "outputs": [],
   "source": [
    "len(connection.queries)"
   ]
  },
  {
   "cell_type": "code",
   "execution_count": null,
   "metadata": {},
   "outputs": [],
   "source": [
    "connection.queries[-3:]"
   ]
  },
  {
   "cell_type": "markdown",
   "metadata": {},
   "source": [
    "# prefetch_related"
   ]
  },
  {
   "cell_type": "code",
   "execution_count": 5,
   "metadata": {},
   "outputs": [
    {
     "data": {
      "text/plain": [
       "4"
      ]
     },
     "execution_count": 5,
     "metadata": {},
     "output_type": "execute_result"
    }
   ],
   "source": [
    "len(connection.queries)"
   ]
  },
  {
   "cell_type": "code",
   "execution_count": 4,
   "metadata": {},
   "outputs": [
    {
     "name": "stdout",
     "output_type": "stream",
     "text": [
      "<QuerySet [<MovieRating: MovieRating object (1)>, <MovieRating: MovieRating object (2)>, <MovieRating: MovieRating object (3)>, <MovieRating: MovieRating object (4)>, <MovieRating: MovieRating object (5)>]>\n",
      "<QuerySet [<MovieRating: MovieRating object (6)>, <MovieRating: MovieRating object (7)>, <MovieRating: MovieRating object (8)>, <MovieRating: MovieRating object (9)>, <MovieRating: MovieRating object (10)>]>\n",
      "<QuerySet [<MovieRating: MovieRating object (11)>, <MovieRating: MovieRating object (12)>, <MovieRating: MovieRating object (13)>, <MovieRating: MovieRating object (14)>, <MovieRating: MovieRating object (15)>]>\n"
     ]
    }
   ],
   "source": [
    "m=Movie.objects.filter(id__in=[1,2,3])#takes 1 hit\n",
    "for i in m:\n",
    "    print(i.movie_ratings.all())#takes 3hits"
   ]
  },
  {
   "cell_type": "code",
   "execution_count": null,
   "metadata": {},
   "outputs": [],
   "source": [
    "m[1].movie_ratings.all()"
   ]
  },
  {
   "cell_type": "code",
   "execution_count": null,
   "metadata": {},
   "outputs": [],
   "source": [
    "len(connection.queries)"
   ]
  },
  {
   "cell_type": "code",
   "execution_count": null,
   "metadata": {},
   "outputs": [],
   "source": []
  },
  {
   "cell_type": "code",
   "execution_count": 6,
   "metadata": {},
   "outputs": [
    {
     "data": {
      "text/plain": [
       "[{'sql': 'SELECT \"imdb_movie\".\"id\", \"imdb_movie\".\"title\", \"imdb_movie\".\"date_of_release\" FROM \"imdb_movie\" WHERE \"imdb_movie\".\"id\" IN (1, 2, 3)',\n",
       "  'time': '0.004'},\n",
       " {'sql': 'SELECT \"imdb_movierating\".\"id\", \"imdb_movierating\".\"movie_id\", \"imdb_movierating\".\"rating\", \"imdb_movierating\".\"no_of_ratings\" FROM \"imdb_movierating\" WHERE \"imdb_movierating\".\"movie_id\" = 1  LIMIT 21',\n",
       "  'time': '0.000'},\n",
       " {'sql': 'SELECT \"imdb_movierating\".\"id\", \"imdb_movierating\".\"movie_id\", \"imdb_movierating\".\"rating\", \"imdb_movierating\".\"no_of_ratings\" FROM \"imdb_movierating\" WHERE \"imdb_movierating\".\"movie_id\" = 2  LIMIT 21',\n",
       "  'time': '0.000'},\n",
       " {'sql': 'SELECT \"imdb_movierating\".\"id\", \"imdb_movierating\".\"movie_id\", \"imdb_movierating\".\"rating\", \"imdb_movierating\".\"no_of_ratings\" FROM \"imdb_movierating\" WHERE \"imdb_movierating\".\"movie_id\" = 3  LIMIT 21',\n",
       "  'time': '0.000'}]"
      ]
     },
     "execution_count": 6,
     "metadata": {},
     "output_type": "execute_result"
    }
   ],
   "source": [
    "connection.queries[-4:]"
   ]
  },
  {
   "cell_type": "code",
   "execution_count": 7,
   "metadata": {},
   "outputs": [
    {
     "data": {
      "text/plain": [
       "4"
      ]
     },
     "execution_count": 7,
     "metadata": {},
     "output_type": "execute_result"
    }
   ],
   "source": [
    "len(connection.queries)"
   ]
  },
  {
   "cell_type": "code",
   "execution_count": 8,
   "metadata": {},
   "outputs": [
    {
     "name": "stdout",
     "output_type": "stream",
     "text": [
      "<QuerySet [<MovieRating: MovieRating object (1)>, <MovieRating: MovieRating object (2)>, <MovieRating: MovieRating object (3)>, <MovieRating: MovieRating object (4)>, <MovieRating: MovieRating object (5)>]>\n",
      "<QuerySet [<MovieRating: MovieRating object (6)>, <MovieRating: MovieRating object (7)>, <MovieRating: MovieRating object (8)>, <MovieRating: MovieRating object (9)>, <MovieRating: MovieRating object (10)>]>\n",
      "<QuerySet [<MovieRating: MovieRating object (11)>, <MovieRating: MovieRating object (12)>, <MovieRating: MovieRating object (13)>, <MovieRating: MovieRating object (14)>, <MovieRating: MovieRating object (15)>]>\n"
     ]
    }
   ],
   "source": [
    "m=Movie.objects.prefetch_related('movie_ratings').filter(id__in=[1,2,3])#takes 1 hit\n",
    "for i in m:\n",
    "    print(i.movie_ratings.all())#takes 1 hit"
   ]
  },
  {
   "cell_type": "code",
   "execution_count": 9,
   "metadata": {},
   "outputs": [
    {
     "data": {
      "text/plain": [
       "6"
      ]
     },
     "execution_count": 9,
     "metadata": {},
     "output_type": "execute_result"
    }
   ],
   "source": [
    "len(connection.queries)"
   ]
  },
  {
   "cell_type": "code",
   "execution_count": 10,
   "metadata": {},
   "outputs": [
    {
     "data": {
      "text/plain": [
       "[{'sql': 'SELECT \"imdb_movie\".\"id\", \"imdb_movie\".\"title\", \"imdb_movie\".\"date_of_release\" FROM \"imdb_movie\" WHERE \"imdb_movie\".\"id\" IN (1, 2, 3)',\n",
       "  'time': '0.000'},\n",
       " {'sql': 'SELECT \"imdb_movierating\".\"id\", \"imdb_movierating\".\"movie_id\", \"imdb_movierating\".\"rating\", \"imdb_movierating\".\"no_of_ratings\" FROM \"imdb_movierating\" WHERE \"imdb_movierating\".\"movie_id\" IN (1, 2, 3)',\n",
       "  'time': '0.000'}]"
      ]
     },
     "execution_count": 10,
     "metadata": {},
     "output_type": "execute_result"
    }
   ],
   "source": [
    "connection.queries[-2:]"
   ]
  },
  {
   "cell_type": "code",
   "execution_count": null,
   "metadata": {},
   "outputs": [],
   "source": [
    "MovieCast.objects.prefetch_related('movie__actors')"
   ]
  },
  {
   "cell_type": "code",
   "execution_count": null,
   "metadata": {
    "scrolled": true
   },
   "outputs": [],
   "source": [
    "MovieCast.objects.select_related('movie').prefetch_related('movie__actors')"
   ]
  },
  {
   "cell_type": "code",
   "execution_count": null,
   "metadata": {},
   "outputs": [],
   "source": [
    "m1=MovieCast.objects.prefetch_related('movie','cast')"
   ]
  },
  {
   "cell_type": "code",
   "execution_count": null,
   "metadata": {},
   "outputs": [],
   "source": [
    "m1"
   ]
  },
  {
   "cell_type": "code",
   "execution_count": null,
   "metadata": {},
   "outputs": [],
   "source": []
  },
  {
   "cell_type": "code",
   "execution_count": null,
   "metadata": {},
   "outputs": [],
   "source": [
    "connection.queries[-5:]"
   ]
  },
  {
   "cell_type": "code",
   "execution_count": null,
   "metadata": {},
   "outputs": [],
   "source": []
  },
  {
   "cell_type": "code",
   "execution_count": null,
   "metadata": {},
   "outputs": [],
   "source": [
    "m.values()"
   ]
  },
  {
   "cell_type": "code",
   "execution_count": null,
   "metadata": {},
   "outputs": [],
   "source": [
    "m.filter(movie_ratings__rating=3)"
   ]
  },
  {
   "cell_type": "code",
   "execution_count": null,
   "metadata": {},
   "outputs": [],
   "source": [
    "len(connection.queries)"
   ]
  },
  {
   "cell_type": "code",
   "execution_count": null,
   "metadata": {},
   "outputs": [],
   "source": [
    "m=Movie.objects.prefetch_related('actors')"
   ]
  },
  {
   "cell_type": "code",
   "execution_count": null,
   "metadata": {},
   "outputs": [],
   "source": []
  },
  {
   "cell_type": "code",
   "execution_count": null,
   "metadata": {},
   "outputs": [],
   "source": [
    "m[0].movie_ratings.all()"
   ]
  },
  {
   "cell_type": "code",
   "execution_count": null,
   "metadata": {},
   "outputs": [],
   "source": [
    "connection.queries[-2:]"
   ]
  },
  {
   "cell_type": "code",
   "execution_count": 103,
   "metadata": {},
   "outputs": [],
   "source": [
    "non_prefetched = m.prefetch_related(None)"
   ]
  },
  {
   "cell_type": "code",
   "execution_count": null,
   "metadata": {},
   "outputs": [],
   "source": [
    "Movie.objects.prefetch_related('actors')"
   ]
  },
  {
   "cell_type": "code",
   "execution_count": 119,
   "metadata": {},
   "outputs": [
    {
     "data": {
      "text/plain": [
       "70"
      ]
     },
     "execution_count": 119,
     "metadata": {},
     "output_type": "execute_result"
    }
   ],
   "source": [
    "len(connection.queries)"
   ]
  },
  {
   "cell_type": "code",
   "execution_count": null,
   "metadata": {},
   "outputs": [],
   "source": [
    "m=Movie.objects.prefetch_related(Prefetch('actors'))"
   ]
  },
  {
   "cell_type": "code",
   "execution_count": null,
   "metadata": {},
   "outputs": [],
   "source": [
    "for i in m:\n",
    "    print(i.actors.all())"
   ]
  },
  {
   "cell_type": "code",
   "execution_count": 120,
   "metadata": {},
   "outputs": [
    {
     "data": {
      "text/plain": [
       "[{'sql': 'SELECT \"imdb_moviecast\".\"id\", \"imdb_moviecast\".\"movie_id\", \"imdb_moviecast\".\"cast_id\", \"imdb_moviecast\".\"role\", \"imdb_moviecast\".\"remuneration_in_usd\", \"imdb_movie\".\"id\", \"imdb_movie\".\"title\", \"imdb_movie\".\"date_of_release\" FROM \"imdb_moviecast\" INNER JOIN \"imdb_movie\" ON (\"imdb_moviecast\".\"movie_id\" = \"imdb_movie\".\"id\")',\n",
       "  'time': '0.001'},\n",
       " {'sql': 'SELECT \"imdb_movierating\".\"id\", \"imdb_movierating\".\"movie_id\", \"imdb_movierating\".\"rating\", \"imdb_movierating\".\"no_of_ratings\" FROM \"imdb_movierating\" WHERE \"imdb_movierating\".\"movie_id\" IN (1, 2, 3, 4, 5)',\n",
       "  'time': '0.000'}]"
      ]
     },
     "execution_count": 120,
     "metadata": {},
     "output_type": "execute_result"
    }
   ],
   "source": [
    "connection.queries[-2:]"
   ]
  },
  {
   "cell_type": "code",
   "execution_count": 117,
   "metadata": {},
   "outputs": [],
   "source": [
    "m=MovieCast.objects.select_related('movie').prefetch_related(Prefetch('movie__movie_ratings',queryset=MovieRating.objects.select_related('movie')))"
   ]
  },
  {
   "cell_type": "code",
   "execution_count": 118,
   "metadata": {},
   "outputs": [
    {
     "name": "stdout",
     "output_type": "stream",
     "text": [
      "<QuerySet [<MovieRating: MovieRating object (1)>, <MovieRating: MovieRating object (2)>, <MovieRating: MovieRating object (3)>, <MovieRating: MovieRating object (4)>, <MovieRating: MovieRating object (5)>]>\n",
      "<QuerySet [<MovieRating: MovieRating object (1)>, <MovieRating: MovieRating object (2)>, <MovieRating: MovieRating object (3)>, <MovieRating: MovieRating object (4)>, <MovieRating: MovieRating object (5)>]>\n",
      "<QuerySet [<MovieRating: MovieRating object (6)>, <MovieRating: MovieRating object (7)>, <MovieRating: MovieRating object (8)>, <MovieRating: MovieRating object (9)>, <MovieRating: MovieRating object (10)>]>\n",
      "<QuerySet [<MovieRating: MovieRating object (6)>, <MovieRating: MovieRating object (7)>, <MovieRating: MovieRating object (8)>, <MovieRating: MovieRating object (9)>, <MovieRating: MovieRating object (10)>]>\n",
      "<QuerySet [<MovieRating: MovieRating object (11)>, <MovieRating: MovieRating object (12)>, <MovieRating: MovieRating object (13)>, <MovieRating: MovieRating object (14)>, <MovieRating: MovieRating object (15)>]>\n",
      "<QuerySet [<MovieRating: MovieRating object (16)>, <MovieRating: MovieRating object (17)>, <MovieRating: MovieRating object (18)>, <MovieRating: MovieRating object (19)>, <MovieRating: MovieRating object (20)>]>\n",
      "<QuerySet [<MovieRating: MovieRating object (21)>, <MovieRating: MovieRating object (22)>, <MovieRating: MovieRating object (23)>, <MovieRating: MovieRating object (24)>, <MovieRating: MovieRating object (25)>]>\n"
     ]
    }
   ],
   "source": [
    "for i in m:\n",
    "    print(i.movie.movie_ratings.all())"
   ]
  },
  {
   "cell_type": "code",
   "execution_count": 35,
   "metadata": {},
   "outputs": [
    {
     "name": "stdout",
     "output_type": "stream",
     "text": [
      "<QuerySet [<MovieRating: MovieRating object (1)>, <MovieRating: MovieRating object (2)>, <MovieRating: MovieRating object (3)>, <MovieRating: MovieRating object (4)>, <MovieRating: MovieRating object (5)>]>\n",
      "<QuerySet [<MovieRating: MovieRating object (1)>, <MovieRating: MovieRating object (2)>, <MovieRating: MovieRating object (3)>, <MovieRating: MovieRating object (4)>, <MovieRating: MovieRating object (5)>]>\n",
      "<QuerySet [<MovieRating: MovieRating object (6)>, <MovieRating: MovieRating object (7)>, <MovieRating: MovieRating object (8)>, <MovieRating: MovieRating object (9)>, <MovieRating: MovieRating object (10)>]>\n",
      "<QuerySet [<MovieRating: MovieRating object (6)>, <MovieRating: MovieRating object (7)>, <MovieRating: MovieRating object (8)>, <MovieRating: MovieRating object (9)>, <MovieRating: MovieRating object (10)>]>\n",
      "<QuerySet [<MovieRating: MovieRating object (11)>, <MovieRating: MovieRating object (12)>, <MovieRating: MovieRating object (13)>, <MovieRating: MovieRating object (14)>, <MovieRating: MovieRating object (15)>]>\n",
      "<QuerySet [<MovieRating: MovieRating object (16)>, <MovieRating: MovieRating object (17)>, <MovieRating: MovieRating object (18)>, <MovieRating: MovieRating object (19)>, <MovieRating: MovieRating object (20)>]>\n",
      "<QuerySet [<MovieRating: MovieRating object (21)>, <MovieRating: MovieRating object (22)>, <MovieRating: MovieRating object (23)>, <MovieRating: MovieRating object (24)>, <MovieRating: MovieRating object (25)>]>\n"
     ]
    }
   ],
   "source": [
    "for i in m:\n",
    "    print(i.movie.movie_ratings.all())"
   ]
  },
  {
   "cell_type": "code",
   "execution_count": 104,
   "metadata": {},
   "outputs": [],
   "source": [
    "m=MovieCast.objects.prefetch_related(Prefetch('movie__movie_ratings'))"
   ]
  },
  {
   "cell_type": "code",
   "execution_count": 95,
   "metadata": {},
   "outputs": [],
   "source": [
    "m=MovieCast.objects.filter(id__in=[1,2,3])"
   ]
  },
  {
   "cell_type": "code",
   "execution_count": 96,
   "metadata": {},
   "outputs": [
    {
     "data": {
      "text/plain": [
       "58"
      ]
     },
     "execution_count": 96,
     "metadata": {},
     "output_type": "execute_result"
    }
   ],
   "source": [
    "len(connection.queries)"
   ]
  },
  {
   "cell_type": "code",
   "execution_count": 90,
   "metadata": {},
   "outputs": [],
   "source": [
    "result = MovieCast.objects.prefetch_related(Prefetch('movie',queryset=m,to_attr='first_films'))"
   ]
  },
  {
   "cell_type": "code",
   "execution_count": 94,
   "metadata": {},
   "outputs": [
    {
     "data": {
      "text/plain": [
       "[{'sql': 'SELECT \"imdb_moviecast\".\"id\", \"imdb_moviecast\".\"movie_id\", \"imdb_moviecast\".\"cast_id\", \"imdb_moviecast\".\"role\", \"imdb_moviecast\".\"remuneration_in_usd\" FROM \"imdb_moviecast\"',\n",
       "  'time': '0.000'},\n",
       " {'sql': 'SELECT \"imdb_moviecast\".\"id\", \"imdb_moviecast\".\"movie_id\", \"imdb_moviecast\".\"cast_id\", \"imdb_moviecast\".\"role\", \"imdb_moviecast\".\"remuneration_in_usd\" FROM \"imdb_moviecast\" WHERE (\"imdb_moviecast\".\"id\" IN (1, 2, 3) AND \"imdb_moviecast\".\"id\" IN (1, 2, 3, 4, 5))',\n",
       "  'time': '0.000'}]"
      ]
     },
     "execution_count": 94,
     "metadata": {},
     "output_type": "execute_result"
    }
   ],
   "source": [
    "connection.queries[-2:]"
   ]
  },
  {
   "cell_type": "code",
   "execution_count": 92,
   "metadata": {},
   "outputs": [
    {
     "name": "stdout",
     "output_type": "stream",
     "text": [
      "<class 'imdb.models.MovieCast'>\n",
      "<class 'imdb.models.MovieCast'>\n",
      "<class 'imdb.models.MovieCast'>\n",
      "<class 'imdb.models.MovieCast'>\n",
      "<class 'imdb.models.MovieCast'>\n",
      "<class 'NoneType'>\n",
      "<class 'NoneType'>\n"
     ]
    }
   ],
   "source": [
    "for item in result:\n",
    "    print(type(item.first_films))"
   ]
  },
  {
   "cell_type": "code",
   "execution_count": 59,
   "metadata": {},
   "outputs": [
    {
     "data": {
      "text/plain": [
       "7"
      ]
     },
     "execution_count": 59,
     "metadata": {},
     "output_type": "execute_result"
    }
   ],
   "source": [
    "MovieCast.objects.count()\n"
   ]
  },
  {
   "cell_type": "code",
   "execution_count": 60,
   "metadata": {},
   "outputs": [
    {
     "data": {
      "text/plain": [
       "5"
      ]
     },
     "execution_count": 60,
     "metadata": {},
     "output_type": "execute_result"
    }
   ],
   "source": [
    "Movie.objects.count()"
   ]
  },
  {
   "cell_type": "code",
   "execution_count": 78,
   "metadata": {},
   "outputs": [
    {
     "ename": "NameError",
     "evalue": "name 'first_films' is not defined",
     "output_type": "error",
     "traceback": [
      "\u001b[0;31m---------------------------------------------------------------------------\u001b[0m",
      "\u001b[0;31mNameError\u001b[0m                                 Traceback (most recent call last)",
      "\u001b[0;32m<ipython-input-78-cb9e8be80a9a>\u001b[0m in \u001b[0;36m<module>\u001b[0;34m\u001b[0m\n\u001b[0;32m----> 1\u001b[0;31m \u001b[0mfirst_films\u001b[0m\u001b[0;34m\u001b[0m\u001b[0;34m\u001b[0m\u001b[0m\n\u001b[0m",
      "\u001b[0;31mNameError\u001b[0m: name 'first_films' is not defined"
     ]
    }
   ],
   "source": [
    "first_films"
   ]
  },
  {
   "cell_type": "code",
   "execution_count": 87,
   "metadata": {},
   "outputs": [
    {
     "data": {
      "text/plain": [
       "<QuerySet [{'id': 1, 'title': 'Endgame'}, {'id': 2, 'title': 'Inception'}, {'id': 3, 'title': 'Avatar'}, {'id': 4, 'title': 'Titanic'}, {'id': 5, 'title': 'Clash of titans'}]>"
      ]
     },
     "execution_count": 87,
     "metadata": {},
     "output_type": "execute_result"
    }
   ],
   "source": [
    "Movie.objects.values('id','title')"
   ]
  },
  {
   "cell_type": "code",
   "execution_count": null,
   "metadata": {},
   "outputs": [],
   "source": []
  }
 ],
 "metadata": {
  "kernelspec": {
   "display_name": "Python 3",
   "language": "python",
   "name": "python3"
  },
  "language_info": {
   "codemirror_mode": {
    "name": "ipython",
    "version": 3
   },
   "file_extension": ".py",
   "mimetype": "text/x-python",
   "name": "python",
   "nbconvert_exporter": "python",
   "pygments_lexer": "ipython3",
   "version": "3.7.3"
  }
 },
 "nbformat": 4,
 "nbformat_minor": 2
}
