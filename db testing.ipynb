{
 "cells": [
  {
   "cell_type": "code",
   "execution_count": 1,
   "metadata": {},
   "outputs": [],
   "source": [
    "import django\n",
    "import os\n",
    "os.environ.setdefault('DJANGO_SETTINGS_MODULE', 'mysite.settings')\n",
    "django.setup()"
   ]
  },
  {
   "cell_type": "code",
   "execution_count": 5,
   "metadata": {},
   "outputs": [],
   "source": [
    "from fbpost.models import *\n",
    "from datetime import datetime\n",
    "from fbpost.model_methods import *\n",
    "from django.db.models import *\n",
    "from django.db import connection\n",
    "import pytest"
   ]
  },
  {
   "cell_type": "code",
   "execution_count": 19,
   "metadata": {},
   "outputs": [],
   "source": [
    "@pytest.mark.django_db\n",
    "def test_my_user():\n",
    "    user = User.objects.get(username='narendra')\n",
    "    assert user.is_superuser"
   ]
  },
  {
   "cell_type": "code",
   "execution_count": 24,
   "metadata": {},
   "outputs": [
    {
     "data": {
      "text/plain": [
       "{'post_id': 2,\n",
       " 'posted_by': {'name': 'narendra',\n",
       "  'user_id': 1,\n",
       "  'profile_pic_url': 'https://dummy.url.com/pic.png'},\n",
       " 'posted_at': '2019-07-12 04:35:13.339910',\n",
       " 'post_content': 'Science News',\n",
       " 'reactions': {'reactions': {'count': 2, 'type': ['SAD', 'LIKE']}},\n",
       " 'comments': [{'comment_id': 9,\n",
       "   'commenter': {'name': 'narendra',\n",
       "    'user_id': 1,\n",
       "    'profile_pic_url': 'https://dummy.url.com/pic.png'},\n",
       "   'commented_at': '2019-07-15 04:19:59.236847',\n",
       "   'comment_content': 'This is second post and user1 commented',\n",
       "   'reactions': {'reactions': {'count': 1, 'type': ['HAHA']}},\n",
       "   'replies_count': 2,\n",
       "   'replies': [{'comment_id': 12,\n",
       "     'commenter': {'name': 'naveen',\n",
       "      'user_id': 3,\n",
       "      'profile_pic_url': 'https://dummy.url.com/pic2.png'},\n",
       "     'commented_at': '2019-07-15 04:28:09.677761',\n",
       "     'comment_content': 'reply to comment9 bu user3',\n",
       "     'reactions': {'reactions': {'count': 1, 'type': ['WOW']}},\n",
       "     'replies_count': 0,\n",
       "     'replies': []},\n",
       "    {'comment_id': 13,\n",
       "     'commenter': {'name': 'naveen',\n",
       "      'user_id': 3,\n",
       "      'profile_pic_url': 'https://dummy.url.com/pic2.png'},\n",
       "     'commented_at': '2019-07-15 07:32:16.918583',\n",
       "     'comment_content': 'reply to comment9 bu user3',\n",
       "     'reactions': {'reactions': {'count': 0, 'type': []}},\n",
       "     'replies_count': 0,\n",
       "     'replies': []}]}],\n",
       " 'comments_count': 1}"
      ]
     },
     "execution_count": 24,
     "metadata": {},
     "output_type": "execute_result"
    }
   ],
   "source": [
    "get_post(2)"
   ]
  },
  {
   "cell_type": "code",
   "execution_count": 30,
   "metadata": {},
   "outputs": [
    {
     "data": {
      "text/plain": [
       "23"
      ]
     },
     "execution_count": 30,
     "metadata": {},
     "output_type": "execute_result"
    }
   ],
   "source": [
    "len(connection.queries)"
   ]
  },
  {
   "cell_type": "code",
   "execution_count": 26,
   "metadata": {},
   "outputs": [
    {
     "data": {
      "text/plain": [
       "<QuerySet [<Post: Tech News>, <Post: Science News>, <Post: Funny Jokes>]>"
      ]
     },
     "execution_count": 26,
     "metadata": {},
     "output_type": "execute_result"
    }
   ],
   "source": []
  },
  {
   "cell_type": "code",
   "execution_count": 38,
   "metadata": {},
   "outputs": [],
   "source": [
    "import pytest\n",
    "@pytest.fixture\n",
    "def post_setup():\n",
    "    from datetime import datetime\n",
    "    from fbpost.models import Post,User\n",
    "    post=Post.objects.create(post_datetime=datetime.now(),\n",
    "                               post_content=\"Tech News\", user=User.objects.get(id=1))\n",
    "    \n",
    "@pytest.mark.django_db\n",
    "def test_create_post(post_setup):\n",
    "    post=create_post(User.objects.get(id=1),\"Tech News\")\n",
    "    print(post)\n",
    "    "
   ]
  },
  {
   "cell_type": "code",
   "execution_count": 37,
   "metadata": {},
   "outputs": [
    {
     "data": {
      "text/plain": [
       "<User: balayya>"
      ]
     },
     "execution_count": 37,
     "metadata": {},
     "output_type": "execute_result"
    }
   ],
   "source": [
    "create_user(\"balayya\",\"http\")"
   ]
  },
  {
   "cell_type": "code",
   "execution_count": 40,
   "metadata": {},
   "outputs": [
    {
     "data": {
      "text/plain": [
       "<QuerySet [<User: narendra>, <User: vamsi>, <User: naveen>, <User: mohan>, <User: mohan>, <User: balayya>]>"
      ]
     },
     "execution_count": 40,
     "metadata": {},
     "output_type": "execute_result"
    }
   ],
   "source": [
    "User.objects.all()"
   ]
  },
  {
   "cell_type": "code",
   "execution_count": 41,
   "metadata": {},
   "outputs": [],
   "source": [
    "comment = Comment.objects.get(id=1)"
   ]
  },
  {
   "cell_type": "code",
   "execution_count": 42,
   "metadata": {},
   "outputs": [
    {
     "data": {
      "text/plain": [
       "<Comment: good info>"
      ]
     },
     "execution_count": 42,
     "metadata": {},
     "output_type": "execute_result"
    }
   ],
   "source": [
    "comment"
   ]
  },
  {
   "cell_type": "code",
   "execution_count": 50,
   "metadata": {},
   "outputs": [
    {
     "data": {
      "text/plain": [
       "'Tech News'"
      ]
     },
     "execution_count": 50,
     "metadata": {},
     "output_type": "execute_result"
    }
   ],
   "source": [
    "comment.post.post_content"
   ]
  },
  {
   "cell_type": "code",
   "execution_count": null,
   "metadata": {},
   "outputs": [],
   "source": []
  }
 ],
 "metadata": {
  "kernelspec": {
   "display_name": "Python 3",
   "language": "python",
   "name": "python3"
  },
  "language_info": {
   "codemirror_mode": {
    "name": "ipython",
    "version": 3
   },
   "file_extension": ".py",
   "mimetype": "text/x-python",
   "name": "python",
   "nbconvert_exporter": "python",
   "pygments_lexer": "ipython3",
   "version": "3.7.3"
  }
 },
 "nbformat": 4,
 "nbformat_minor": 2
}
